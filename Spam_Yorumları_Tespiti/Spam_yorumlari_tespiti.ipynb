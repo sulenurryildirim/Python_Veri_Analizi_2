{
 "cells": [
  {
   "cell_type": "code",
   "execution_count": 10,
   "id": "7de1cca2-c4c5-4ff4-b076-9052e9aeb4ae",
   "metadata": {},
   "outputs": [
    {
     "name": "stdout",
     "output_type": "stream",
     "text": [
      "                                COMMENT_ID             AUTHOR  \\\n",
      "47     z125zbmwryjwxzx4504cfjzwbtztuvkif3c  Leonardo Baptista   \n",
      "349  z13vhvu54u3ewpp5h04ccb4zuoardrmjlyk0k         Ray Benich   \n",
      "123  z13pdjsgqkjjtnlqz04cgtxafxqtylmixxg0k         xMasterGGx   \n",
      "32     z12wvpxppxz3ifk3j224cbsgqraherzrg04        ElepticRage   \n",
      "140  z12kcx2ahwmpupnw004cdt3rwqfes3xgbns0k     Mehmet Demirel   \n",
      "\n",
      "                    DATE                                            CONTENT  \\\n",
      "47   2014-01-20T15:10:27  http://www.avaaz.org/po/petition/Youtube_Corpo...   \n",
      "349  2015-06-05T18:05:16  The first billion viewed this because they tho...   \n",
      "123  2014-11-05T15:25:34                          2,124923004 wiews... wow﻿   \n",
      "32   2014-01-19T08:55:53                  sub my channel for no reason -_-﻿   \n",
      "140  2014-11-05T21:25:27  http://www.gcmforex.com/partners/aw.aspx?Task=...   \n",
      "\n",
      "     CLASS  \n",
      "47       1  \n",
      "349      0  \n",
      "123      0  \n",
      "32       1  \n",
      "140      1  \n"
     ]
    }
   ],
   "source": [
    "# Gerekli kütüphaneleri içe aktarıyoruz\n",
    "import pandas as pd\n",
    "import numpy as np\n",
    "from sklearn.feature_extraction.text import CountVectorizer  # Metinleri sayısal verilere dönüştürmek için\n",
    "from sklearn.model_selection import train_test_split          # Veri setini eğitim ve test olarak ayırmak için\n",
    "from sklearn.naive_bayes import BernoulliNB                  # Bernoulli Naive Bayes sınıflandırıcısı\n",
    "\n",
    "# Veri setini okuma\n",
    "data = pd.read_csv(r\"C:\\Users\\sulen\\OneDrive\\Masaüstü\\Python ile Veri Analizi Atölyesi\\Youtube01-Psy.csv\")\n",
    "\n",
    "# Veri setinden rastgele 5 örnek satır yazdırma\n",
    "print(data.sample(5))"
   ]
  },
  {
   "cell_type": "markdown",
   "id": "f30280a3-798e-4485-976b-9d33fe26c4b2",
   "metadata": {},
   "source": [
    "YouTube yorumlarından oluşan bir veri seti okunmuş ve sample(5) fonksiyonu kullanılarak rastgele beş satır görüntülenmiştir. Veri setinde her yorumun benzersiz kimliği (COMMENT_ID), yazarı (AUTHOR), tarihi (DATE), içeriği (CONTENT) ve sınıf etiketi (CLASS) yer almaktadır. Bu yapı, yorumların hem içeriksel hem de etiket bilgisiyle analiz edilmesine olanak sağlar.\n",
    "\n",
    "Çıktıda görülen CONTENT sütunu, yorumların asıl metin bilgisini içermektedir. Örneğin, \"subscribe to me :)\" ifadesi tipik bir spam içeriği olarak dikkat çekerken, \"The girl in the train who was dancing, her out...\" gibi ifadeler normal (spam olmayan) yorumlara örnek teşkil etmektedir. Bu durum, spam ve normal yorumların birbirinden ayrılabilmesi için içeriklerin taşıdığı dilsel farklılıkların modelleme sürecinde önemli olacağını gösterir.\n",
    "\n",
    "Son sütun olan CLASS, yorumun spam olup olmadığını belirtmektedir. Burada 1 etiketi spam yorumları, 0 etiketi ise normal yorumları temsil etmektedir. Örneğin, 211. satırdaki \"subscribe to me :)\" yorumu spam olarak (CLASS=1) etiketlenmiştir, ancak 332. satırdaki yorum normal (CLASS=0) olarak işaretlenmiştir."
   ]
  },
  {
   "cell_type": "code",
   "execution_count": 11,
   "id": "1e0ee4f1-ba7e-4fff-9b57-f095488ea9d4",
   "metadata": {},
   "outputs": [
    {
     "name": "stdout",
     "output_type": "stream",
     "text": [
      "                                               CONTENT  CLASS\n",
      "302  https://www.facebook.com/nicushorbboy add mee ...      1\n",
      "211                               subscribe to me :) ﻿      1\n",
      "160  CHECK MY CHANNEL FOR MY NEW SONG 'STATIC'!! YO...      1\n",
      "61     The first comment is chuck norrus ovbiously :D﻿      0\n",
      "193  How are there 2 billion views and theres only ...      0\n"
     ]
    }
   ],
   "source": [
    "# Sadece analiz için gerekli sütunları seçiyoruz\n",
    "data=data[[\"CONTENT\",\"CLASS\"]]\n",
    "print(data.sample(5))"
   ]
  },
  {
   "cell_type": "code",
   "execution_count": 12,
   "id": "3c0e23c5-ecf7-4c80-bc96-f2977563c3fa",
   "metadata": {},
   "outputs": [
    {
     "name": "stdout",
     "output_type": "stream",
     "text": [
      "                                               CONTENT     CLASS\n",
      "90   https://www.indiegogo.com/projects/cleaning-th...      Spam\n",
      "39   The projects After Effects, Music, Foto, Web s...      Spam\n",
      "146            Get free gift cards and pay pal money!﻿      Spam\n",
      "160  CHECK MY CHANNEL FOR MY NEW SONG 'STATIC'!! YO...      Spam\n",
      "229                      We pray for you Little Psy ♡﻿  Not Spam\n"
     ]
    }
   ],
   "source": [
    "# CLASS sütunundaki sayısal etiketleri anlaşılır metin etiketlerine dönüştürüyoruz\n",
    "data[\"CLASS\"]=data[\"CLASS\"].map({0:\"Not Spam\",1:\"Spam\"})\n",
    "print(data.sample(5))"
   ]
  },
  {
   "cell_type": "code",
   "execution_count": 4,
   "id": "802beb22-43a4-4168-aec4-6c45978a090d",
   "metadata": {},
   "outputs": [
    {
     "name": "stdout",
     "output_type": "stream",
     "text": [
      "0.9659090909090909\n"
     ]
    }
   ],
   "source": [
    "# Yorumları ve sınıf etiketlerini sayısal vektörlere dönüştürüp, Bernoulli Naive Bayes modeli ile eğitiyoruz ve test doğruluğunu hesaplıyoruz\n",
    "x=np.array(data[\"CONTENT\"])\n",
    "y=np.array(data[\"CLASS\"])\n",
    "cv=CountVectorizer()\n",
    "x=cv.fit_transform(x)\n",
    "xtrain,xtest,ytrain,ytest=train_test_split(x,y,random_state=42)\n",
    "model=BernoulliNB()\n",
    "model.fit(xtrain,ytrain)\n",
    "print(model.score(xtest,ytest))"
   ]
  },
  {
   "cell_type": "markdown",
   "id": "3ce9f209-4866-450b-beea-8f6e970d4753",
   "metadata": {},
   "source": [
    "Bernoulli Naive Bayes modeli test verisinde yaklaşık %96.6 doğruluk gösteriyor, yorumları spam olup olmadıklarını büyük ölçüde doğru sınıflandırabiliyor ve basit bir metin sınıflandırma senaryosu için yeterli performans sunuyor."
   ]
  },
  {
   "cell_type": "code",
   "execution_count": 5,
   "id": "1ba93b21-c8ee-40dd-a0d7-c054952db117",
   "metadata": {},
   "outputs": [
    {
     "name": "stdout",
     "output_type": "stream",
     "text": [
      "['Not Spam']\n"
     ]
    }
   ],
   "source": [
    "# Modelin çalışmasını kontrol ederek test işlemini gerçekleştirelim\n",
    "sample = \"Lack of information!\" \n",
    "data = cv.transform([sample]).toarray()\n",
    "print(model.predict(data))"
   ]
  },
  {
   "cell_type": "code",
   "execution_count": 8,
   "id": "02634343-fc0e-49eb-ba4d-ba197c6bd647",
   "metadata": {},
   "outputs": [
    {
     "name": "stdout",
     "output_type": "stream",
     "text": [
      "['Spam']\n"
     ]
    }
   ],
   "source": [
    "sample = \"https://twitter.com/GBphotographyGB\" \n",
    "data = cv.transform([sample]).toarray()\n",
    "print(model.predict(data))"
   ]
  },
  {
   "cell_type": "code",
   "execution_count": 13,
   "id": "3ae2cd81-494c-49f3-b514-754600410dd8",
   "metadata": {},
   "outputs": [
    {
     "name": "stdout",
     "output_type": "stream",
     "text": [
      "['Spam']\n"
     ]
    }
   ],
   "source": [
    "sample = \"Get free gift cards and pay pal money!\" \n",
    "data = cv.transform([sample]).toarray()\n",
    "print(model.predict(data))"
   ]
  },
  {
   "cell_type": "code",
   "execution_count": 14,
   "id": "88986d8d-80d5-4a1b-9b1f-b605f6961e50",
   "metadata": {},
   "outputs": [
    {
     "name": "stdout",
     "output_type": "stream",
     "text": [
      "['Not Spam']\n"
     ]
    }
   ],
   "source": [
    "sample = \"The first comment is chuck norrus ovbiously :D\" \n",
    "data = cv.transform([sample]).toarray()\n",
    "print(model.predict(data))"
   ]
  }
 ],
 "metadata": {
  "kernelspec": {
   "display_name": "Python [conda env:base] *",
   "language": "python",
   "name": "conda-base-py"
  },
  "language_info": {
   "codemirror_mode": {
    "name": "ipython",
    "version": 3
   },
   "file_extension": ".py",
   "mimetype": "text/x-python",
   "name": "python",
   "nbconvert_exporter": "python",
   "pygments_lexer": "ipython3",
   "version": "3.11.7"
  }
 },
 "nbformat": 4,
 "nbformat_minor": 5
}
