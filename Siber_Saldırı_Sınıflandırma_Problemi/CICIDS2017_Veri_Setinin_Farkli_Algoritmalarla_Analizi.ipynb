{
 "cells": [
  {
   "cell_type": "code",
   "execution_count": 25,
   "id": "1fd032da-f79c-43ec-bca7-683b65200f47",
   "metadata": {},
   "outputs": [],
   "source": [
    "import warnings\n",
    "warnings.filterwarnings(\"ignore\")  # Uyarı mesajlarının filtrelenmesi (gereksiz uyarıları gizler)\n",
    "\n",
    "import pandas as pd      # Veri okuma, işleme ve DataFrame işlemleri\n",
    "import numpy as np       # Sayısal hesaplamalar ve matris işlemleri\n",
    "import matplotlib.pyplot as plt  # Veri görselleştirme için\n",
    "import seaborn as sns    # Daha gelişmiş istatistiksel görselleştirmeler\n",
    "\n",
    "# Makine öğrenmesi ve performans ölçüm kütüphaneleri\n",
    "from sklearn.model_selection import train_test_split  # Veri setini eğitim ve test olarak ayırmak için\n",
    "from sklearn.metrics import (classification_report, confusion_matrix, \n",
    "                             accuracy_score, precision_score, recall_score, f1_score)  # Model performans metrikleri\n",
    "\n",
    "# Topluluk öğrenme algoritmaları\n",
    "import lightgbm as lgb   # LightGBM sınıflandırma modeli\n",
    "import catboost as cbt   # CatBoost sınıflandırma modeli\n",
    "import xgboost as xgb    # XGBoost sınıflandırma modeli\n",
    "\n",
    "import time              # Kod çalıştırma sürelerini ölçmek için\n",
    "from river import stream # Veri akışı (streaming) işlemleri için, versiyon kontrolüne bağlı\n",
    "from statistics import mode  # En sık görülen değeri bulmak için istatistiksel fonksiyon"
   ]
  },
  {
   "cell_type": "code",
   "execution_count": 2,
   "id": "8031a539-6e5c-4c9b-b4bf-72d0d734c96e",
   "metadata": {
    "collapsed": true,
    "jupyter": {
     "outputs_hidden": true
    }
   },
   "outputs": [
    {
     "name": "stdout",
     "output_type": "stream",
     "text": [
      "Collecting lightgbm\n",
      "  Using cached lightgbm-4.6.0-py3-none-win_amd64.whl.metadata (17 kB)\n",
      "Requirement already satisfied: numpy>=1.17.0 in c:\\users\\sulen\\anaconda3\\lib\\site-packages (from lightgbm) (2.1.3)\n",
      "Requirement already satisfied: scipy in c:\\users\\sulen\\anaconda3\\lib\\site-packages (from lightgbm) (1.15.3)\n",
      "Using cached lightgbm-4.6.0-py3-none-win_amd64.whl (1.5 MB)\n",
      "Installing collected packages: lightgbm\n",
      "Successfully installed lightgbm-4.6.0\n",
      "Note: you may need to restart the kernel to use updated packages.\n"
     ]
    }
   ],
   "source": [
    "pip install lightgbm"
   ]
  },
  {
   "cell_type": "code",
   "execution_count": 3,
   "id": "2df0892f-1ffa-48c0-bd38-fa1e18766e9a",
   "metadata": {
    "collapsed": true,
    "jupyter": {
     "outputs_hidden": true
    }
   },
   "outputs": [
    {
     "name": "stdout",
     "output_type": "stream",
     "text": [
      "Collecting catboost\n",
      "  Downloading catboost-1.2.8-cp313-cp313-win_amd64.whl.metadata (1.5 kB)\n",
      "Collecting graphviz (from catboost)\n",
      "  Using cached graphviz-0.21-py3-none-any.whl.metadata (12 kB)\n",
      "Requirement already satisfied: matplotlib in c:\\users\\sulen\\anaconda3\\lib\\site-packages (from catboost) (3.10.6)\n",
      "Requirement already satisfied: numpy<3.0,>=1.16.0 in c:\\users\\sulen\\anaconda3\\lib\\site-packages (from catboost) (2.1.3)\n",
      "Requirement already satisfied: pandas>=0.24 in c:\\users\\sulen\\anaconda3\\lib\\site-packages (from catboost) (2.2.3)\n",
      "Requirement already satisfied: scipy in c:\\users\\sulen\\anaconda3\\lib\\site-packages (from catboost) (1.15.3)\n",
      "Requirement already satisfied: plotly in c:\\users\\sulen\\anaconda3\\lib\\site-packages (from catboost) (5.24.1)\n",
      "Requirement already satisfied: six in c:\\users\\sulen\\anaconda3\\lib\\site-packages (from catboost) (1.17.0)\n",
      "Requirement already satisfied: python-dateutil>=2.8.2 in c:\\users\\sulen\\anaconda3\\lib\\site-packages (from pandas>=0.24->catboost) (2.9.0.post0)\n",
      "Requirement already satisfied: pytz>=2020.1 in c:\\users\\sulen\\anaconda3\\lib\\site-packages (from pandas>=0.24->catboost) (2024.1)\n",
      "Requirement already satisfied: tzdata>=2022.7 in c:\\users\\sulen\\anaconda3\\lib\\site-packages (from pandas>=0.24->catboost) (2025.2)\n",
      "Requirement already satisfied: contourpy>=1.0.1 in c:\\users\\sulen\\anaconda3\\lib\\site-packages (from matplotlib->catboost) (1.3.1)\n",
      "Requirement already satisfied: cycler>=0.10 in c:\\users\\sulen\\anaconda3\\lib\\site-packages (from matplotlib->catboost) (0.11.0)\n",
      "Requirement already satisfied: fonttools>=4.22.0 in c:\\users\\sulen\\anaconda3\\lib\\site-packages (from matplotlib->catboost) (4.55.3)\n",
      "Requirement already satisfied: kiwisolver>=1.3.1 in c:\\users\\sulen\\anaconda3\\lib\\site-packages (from matplotlib->catboost) (1.4.8)\n",
      "Requirement already satisfied: packaging>=20.0 in c:\\users\\sulen\\anaconda3\\lib\\site-packages (from matplotlib->catboost) (24.2)\n",
      "Requirement already satisfied: pillow>=8 in c:\\users\\sulen\\anaconda3\\lib\\site-packages (from matplotlib->catboost) (11.1.0)\n",
      "Requirement already satisfied: pyparsing>=2.3.1 in c:\\users\\sulen\\anaconda3\\lib\\site-packages (from matplotlib->catboost) (3.2.0)\n",
      "Requirement already satisfied: tenacity>=6.2.0 in c:\\users\\sulen\\anaconda3\\lib\\site-packages (from plotly->catboost) (9.0.0)\n",
      "Downloading catboost-1.2.8-cp313-cp313-win_amd64.whl (102.4 MB)\n",
      "   ---------------------------------------- 0.0/102.4 MB ? eta -:--:--\n",
      "   ---------------------------------------- 0.5/102.4 MB 4.6 MB/s eta 0:00:23\n",
      "    --------------------------------------- 1.6/102.4 MB 4.8 MB/s eta 0:00:22\n",
      "    --------------------------------------- 2.4/102.4 MB 4.9 MB/s eta 0:00:21\n",
      "   - -------------------------------------- 3.4/102.4 MB 4.9 MB/s eta 0:00:21\n",
      "   - -------------------------------------- 4.5/102.4 MB 4.9 MB/s eta 0:00:21\n",
      "   -- ------------------------------------- 5.5/102.4 MB 4.9 MB/s eta 0:00:20\n",
      "   -- ------------------------------------- 6.6/102.4 MB 4.8 MB/s eta 0:00:20\n",
      "   -- ------------------------------------- 7.6/102.4 MB 4.9 MB/s eta 0:00:20\n",
      "   --- ------------------------------------ 8.7/102.4 MB 4.8 MB/s eta 0:00:20\n",
      "   --- ------------------------------------ 9.7/102.4 MB 4.9 MB/s eta 0:00:20\n",
      "   ---- ----------------------------------- 10.7/102.4 MB 4.9 MB/s eta 0:00:19\n",
      "   ---- ----------------------------------- 11.8/102.4 MB 4.9 MB/s eta 0:00:19\n",
      "   ----- ---------------------------------- 12.8/102.4 MB 4.9 MB/s eta 0:00:19\n",
      "   ----- ---------------------------------- 13.9/102.4 MB 4.9 MB/s eta 0:00:19\n",
      "   ----- ---------------------------------- 14.9/102.4 MB 4.9 MB/s eta 0:00:18\n",
      "   ------ --------------------------------- 16.0/102.4 MB 4.9 MB/s eta 0:00:18\n",
      "   ------ --------------------------------- 17.0/102.4 MB 4.9 MB/s eta 0:00:18\n",
      "   ------- -------------------------------- 18.1/102.4 MB 4.9 MB/s eta 0:00:18\n",
      "   ------- -------------------------------- 18.9/102.4 MB 4.9 MB/s eta 0:00:18\n",
      "   ------- -------------------------------- 20.2/102.4 MB 4.9 MB/s eta 0:00:17\n",
      "   -------- ------------------------------- 21.0/102.4 MB 4.9 MB/s eta 0:00:17\n",
      "   -------- ------------------------------- 21.2/102.4 MB 4.8 MB/s eta 0:00:17\n",
      "   -------- ------------------------------- 22.5/102.4 MB 4.7 MB/s eta 0:00:17\n",
      "   --------- ------------------------------ 23.3/102.4 MB 4.8 MB/s eta 0:00:17\n",
      "   --------- ------------------------------ 24.4/102.4 MB 4.8 MB/s eta 0:00:17\n",
      "   --------- ------------------------------ 25.4/102.4 MB 4.8 MB/s eta 0:00:17\n",
      "   ---------- ----------------------------- 26.5/102.4 MB 4.8 MB/s eta 0:00:16\n",
      "   ---------- ----------------------------- 27.5/102.4 MB 4.8 MB/s eta 0:00:16\n",
      "   ----------- ---------------------------- 28.6/102.4 MB 4.8 MB/s eta 0:00:16\n",
      "   ----------- ---------------------------- 29.6/102.4 MB 4.8 MB/s eta 0:00:16\n",
      "   ----------- ---------------------------- 30.7/102.4 MB 4.8 MB/s eta 0:00:15\n",
      "   ------------ --------------------------- 31.7/102.4 MB 4.8 MB/s eta 0:00:15\n",
      "   ------------ --------------------------- 32.8/102.4 MB 4.8 MB/s eta 0:00:15\n",
      "   ------------- -------------------------- 33.6/102.4 MB 4.8 MB/s eta 0:00:15\n",
      "   ------------- -------------------------- 34.6/102.4 MB 4.8 MB/s eta 0:00:15\n",
      "   ------------- -------------------------- 35.7/102.4 MB 4.8 MB/s eta 0:00:14\n",
      "   -------------- ------------------------- 36.7/102.4 MB 4.8 MB/s eta 0:00:14\n",
      "   -------------- ------------------------- 37.7/102.4 MB 4.8 MB/s eta 0:00:14\n",
      "   --------------- ------------------------ 38.8/102.4 MB 4.8 MB/s eta 0:00:14\n",
      "   --------------- ------------------------ 39.8/102.4 MB 4.8 MB/s eta 0:00:14\n",
      "   --------------- ------------------------ 40.6/102.4 MB 4.8 MB/s eta 0:00:13\n",
      "   ---------------- ----------------------- 41.7/102.4 MB 4.8 MB/s eta 0:00:13\n",
      "   ---------------- ----------------------- 42.7/102.4 MB 4.8 MB/s eta 0:00:13\n",
      "   ----------------- ---------------------- 43.8/102.4 MB 4.8 MB/s eta 0:00:13\n",
      "   ----------------- ---------------------- 44.0/102.4 MB 4.7 MB/s eta 0:00:13\n",
      "   ----------------- ---------------------- 45.1/102.4 MB 4.7 MB/s eta 0:00:13\n",
      "   ------------------ --------------------- 46.1/102.4 MB 4.7 MB/s eta 0:00:12\n",
      "   ------------------ --------------------- 46.9/102.4 MB 4.7 MB/s eta 0:00:12\n",
      "   ------------------ --------------------- 48.0/102.4 MB 4.7 MB/s eta 0:00:12\n",
      "   ------------------- -------------------- 48.8/102.4 MB 4.7 MB/s eta 0:00:12\n",
      "   ------------------- -------------------- 49.8/102.4 MB 4.7 MB/s eta 0:00:12\n",
      "   ------------------- -------------------- 50.6/102.4 MB 4.7 MB/s eta 0:00:12\n",
      "   -------------------- ------------------- 51.4/102.4 MB 4.7 MB/s eta 0:00:11\n",
      "   -------------------- ------------------- 52.2/102.4 MB 4.7 MB/s eta 0:00:11\n",
      "   -------------------- ------------------- 53.0/102.4 MB 4.6 MB/s eta 0:00:11\n",
      "   -------------------- ------------------- 53.7/102.4 MB 4.6 MB/s eta 0:00:11\n",
      "   --------------------- ------------------ 54.5/102.4 MB 4.6 MB/s eta 0:00:11\n",
      "   --------------------- ------------------ 55.3/102.4 MB 4.6 MB/s eta 0:00:11\n",
      "   --------------------- ------------------ 56.1/102.4 MB 4.6 MB/s eta 0:00:11\n",
      "   ---------------------- ----------------- 56.9/102.4 MB 4.6 MB/s eta 0:00:11\n",
      "   ---------------------- ----------------- 57.7/102.4 MB 4.5 MB/s eta 0:00:10\n",
      "   ---------------------- ----------------- 58.7/102.4 MB 4.5 MB/s eta 0:00:10\n",
      "   ----------------------- ---------------- 59.5/102.4 MB 4.5 MB/s eta 0:00:10\n",
      "   ----------------------- ---------------- 60.3/102.4 MB 4.5 MB/s eta 0:00:10\n",
      "   ----------------------- ---------------- 61.1/102.4 MB 4.5 MB/s eta 0:00:10\n",
      "   ------------------------ --------------- 62.1/102.4 MB 4.5 MB/s eta 0:00:09\n",
      "   ------------------------ --------------- 62.9/102.4 MB 4.5 MB/s eta 0:00:09\n",
      "   ------------------------ --------------- 63.4/102.4 MB 4.5 MB/s eta 0:00:09\n",
      "   ------------------------- -------------- 64.2/102.4 MB 4.4 MB/s eta 0:00:09\n",
      "   ------------------------- -------------- 65.0/102.4 MB 4.4 MB/s eta 0:00:09\n",
      "   ------------------------- -------------- 66.1/102.4 MB 4.4 MB/s eta 0:00:09\n",
      "   -------------------------- ------------- 66.8/102.4 MB 4.4 MB/s eta 0:00:09\n",
      "   -------------------------- ------------- 67.6/102.4 MB 4.4 MB/s eta 0:00:08\n",
      "   -------------------------- ------------- 68.4/102.4 MB 4.4 MB/s eta 0:00:08\n",
      "   --------------------------- ------------ 69.2/102.4 MB 4.4 MB/s eta 0:00:08\n",
      "   --------------------------- ------------ 70.3/102.4 MB 4.4 MB/s eta 0:00:08\n",
      "   --------------------------- ------------ 71.0/102.4 MB 4.4 MB/s eta 0:00:08\n",
      "   ---------------------------- ----------- 72.1/102.4 MB 4.4 MB/s eta 0:00:07\n",
      "   ---------------------------- ----------- 72.9/102.4 MB 4.4 MB/s eta 0:00:07\n",
      "   ---------------------------- ----------- 73.9/102.4 MB 4.4 MB/s eta 0:00:07\n",
      "   ----------------------------- ---------- 74.7/102.4 MB 4.4 MB/s eta 0:00:07\n",
      "   ----------------------------- ---------- 75.8/102.4 MB 4.4 MB/s eta 0:00:07\n",
      "   ----------------------------- ---------- 76.5/102.4 MB 4.4 MB/s eta 0:00:06\n",
      "   ------------------------------ --------- 77.6/102.4 MB 4.4 MB/s eta 0:00:06\n",
      "   ------------------------------ --------- 78.4/102.4 MB 4.4 MB/s eta 0:00:06\n",
      "   ------------------------------- -------- 79.4/102.4 MB 4.4 MB/s eta 0:00:06\n",
      "   ------------------------------- -------- 80.2/102.4 MB 4.4 MB/s eta 0:00:06\n",
      "   ------------------------------- -------- 81.3/102.4 MB 4.4 MB/s eta 0:00:05\n",
      "   -------------------------------- ------- 82.3/102.4 MB 4.4 MB/s eta 0:00:05\n",
      "   -------------------------------- ------- 83.1/102.4 MB 4.4 MB/s eta 0:00:05\n",
      "   -------------------------------- ------- 83.9/102.4 MB 4.4 MB/s eta 0:00:05\n",
      "   --------------------------------- ------ 84.7/102.4 MB 4.4 MB/s eta 0:00:05\n",
      "   --------------------------------- ------ 85.7/102.4 MB 4.4 MB/s eta 0:00:04\n",
      "   --------------------------------- ------ 86.5/102.4 MB 4.4 MB/s eta 0:00:04\n",
      "   ---------------------------------- ----- 87.6/102.4 MB 4.4 MB/s eta 0:00:04\n",
      "   ---------------------------------- ----- 88.6/102.4 MB 4.4 MB/s eta 0:00:04\n",
      "   ----------------------------------- ---- 89.7/102.4 MB 4.4 MB/s eta 0:00:03\n",
      "   ----------------------------------- ---- 90.7/102.4 MB 4.4 MB/s eta 0:00:03\n",
      "   ----------------------------------- ---- 91.5/102.4 MB 4.4 MB/s eta 0:00:03\n",
      "   ------------------------------------ --- 92.5/102.4 MB 4.4 MB/s eta 0:00:03\n",
      "   ------------------------------------ --- 93.3/102.4 MB 4.4 MB/s eta 0:00:03\n",
      "   ------------------------------------ --- 94.4/102.4 MB 4.4 MB/s eta 0:00:02\n",
      "   ------------------------------------- -- 95.2/102.4 MB 4.4 MB/s eta 0:00:02\n",
      "   ------------------------------------- -- 95.9/102.4 MB 4.4 MB/s eta 0:00:02\n",
      "   ------------------------------------- -- 97.0/102.4 MB 4.4 MB/s eta 0:00:02\n",
      "   -------------------------------------- - 97.5/102.4 MB 4.4 MB/s eta 0:00:02\n",
      "   -------------------------------------- - 98.6/102.4 MB 4.4 MB/s eta 0:00:01\n",
      "   -------------------------------------- - 99.1/102.4 MB 4.4 MB/s eta 0:00:01\n",
      "   ---------------------------------------  99.9/102.4 MB 4.4 MB/s eta 0:00:01\n",
      "   ---------------------------------------  100.7/102.4 MB 4.3 MB/s eta 0:00:01\n",
      "   ---------------------------------------  101.4/102.4 MB 4.3 MB/s eta 0:00:01\n",
      "   ---------------------------------------  102.0/102.4 MB 4.3 MB/s eta 0:00:01\n",
      "   ---------------------------------------  102.2/102.4 MB 4.3 MB/s eta 0:00:01\n",
      "   ---------------------------------------  102.2/102.4 MB 4.3 MB/s eta 0:00:01\n",
      "   ---------------------------------------  102.2/102.4 MB 4.3 MB/s eta 0:00:01\n",
      "   ---------------------------------------  102.2/102.4 MB 4.3 MB/s eta 0:00:01\n",
      "   ---------------------------------------  102.2/102.4 MB 4.3 MB/s eta 0:00:01\n",
      "   ---------------------------------------  102.2/102.4 MB 4.3 MB/s eta 0:00:01\n",
      "   ---------------------------------------  102.2/102.4 MB 4.3 MB/s eta 0:00:01\n",
      "   ---------------------------------------  102.2/102.4 MB 4.3 MB/s eta 0:00:01\n",
      "   ---------------------------------------  102.2/102.4 MB 4.3 MB/s eta 0:00:01\n",
      "   ---------------------------------------- 102.4/102.4 MB 4.0 MB/s eta 0:00:00\n",
      "Using cached graphviz-0.21-py3-none-any.whl (47 kB)\n",
      "Installing collected packages: graphviz, catboost\n",
      "\n",
      "   ---------------------------------------- 0/2 [graphviz]\n",
      "   ---------------------------------------- 0/2 [graphviz]\n",
      "   -------------------- ------------------- 1/2 [catboost]\n",
      "   -------------------- ------------------- 1/2 [catboost]\n",
      "   -------------------- ------------------- 1/2 [catboost]\n",
      "   -------------------- ------------------- 1/2 [catboost]\n",
      "   -------------------- ------------------- 1/2 [catboost]\n",
      "   -------------------- ------------------- 1/2 [catboost]\n",
      "   -------------------- ------------------- 1/2 [catboost]\n",
      "   -------------------- ------------------- 1/2 [catboost]\n",
      "   -------------------- ------------------- 1/2 [catboost]\n",
      "   -------------------- ------------------- 1/2 [catboost]\n",
      "   -------------------- ------------------- 1/2 [catboost]\n",
      "   -------------------- ------------------- 1/2 [catboost]\n",
      "   -------------------- ------------------- 1/2 [catboost]\n",
      "   -------------------- ------------------- 1/2 [catboost]\n",
      "   -------------------- ------------------- 1/2 [catboost]\n",
      "   -------------------- ------------------- 1/2 [catboost]\n",
      "   -------------------- ------------------- 1/2 [catboost]\n",
      "   -------------------- ------------------- 1/2 [catboost]\n",
      "   -------------------- ------------------- 1/2 [catboost]\n",
      "   -------------------- ------------------- 1/2 [catboost]\n",
      "   -------------------- ------------------- 1/2 [catboost]\n",
      "   -------------------- ------------------- 1/2 [catboost]\n",
      "   -------------------- ------------------- 1/2 [catboost]\n",
      "   -------------------- ------------------- 1/2 [catboost]\n",
      "   -------------------- ------------------- 1/2 [catboost]\n",
      "   -------------------- ------------------- 1/2 [catboost]\n",
      "   -------------------- ------------------- 1/2 [catboost]\n",
      "   -------------------- ------------------- 1/2 [catboost]\n",
      "   -------------------- ------------------- 1/2 [catboost]\n",
      "   -------------------- ------------------- 1/2 [catboost]\n",
      "   -------------------- ------------------- 1/2 [catboost]\n",
      "   -------------------- ------------------- 1/2 [catboost]\n",
      "   -------------------- ------------------- 1/2 [catboost]\n",
      "   -------------------- ------------------- 1/2 [catboost]\n",
      "   -------------------- ------------------- 1/2 [catboost]\n",
      "   -------------------- ------------------- 1/2 [catboost]\n",
      "   ---------------------------------------- 2/2 [catboost]\n",
      "\n",
      "Successfully installed catboost-1.2.8 graphviz-0.21\n",
      "Note: you may need to restart the kernel to use updated packages.\n"
     ]
    }
   ],
   "source": [
    "pip install catboost"
   ]
  },
  {
   "cell_type": "code",
   "execution_count": 4,
   "id": "03677385-4b54-48cd-a653-866ad257b6e8",
   "metadata": {
    "collapsed": true,
    "jupyter": {
     "outputs_hidden": true
    },
    "scrolled": true
   },
   "outputs": [
    {
     "name": "stdout",
     "output_type": "stream",
     "text": [
      "Collecting xgboost\n",
      "  Using cached xgboost-3.0.5-py3-none-win_amd64.whl.metadata (2.1 kB)\n",
      "Requirement already satisfied: numpy in c:\\users\\sulen\\anaconda3\\lib\\site-packages (from xgboost) (2.1.3)\n",
      "Requirement already satisfied: scipy in c:\\users\\sulen\\anaconda3\\lib\\site-packages (from xgboost) (1.15.3)\n",
      "Using cached xgboost-3.0.5-py3-none-win_amd64.whl (56.8 MB)\n",
      "Installing collected packages: xgboost\n",
      "Successfully installed xgboost-3.0.5\n",
      "Note: you may need to restart the kernel to use updated packages.\n"
     ]
    }
   ],
   "source": [
    "pip install xgboost"
   ]
  },
  {
   "cell_type": "code",
   "execution_count": 5,
   "id": "388a31b7-e067-4bdc-bfd3-381b6fb29090",
   "metadata": {
    "collapsed": true,
    "jupyter": {
     "outputs_hidden": true
    }
   },
   "outputs": [
    {
     "name": "stdout",
     "output_type": "stream",
     "text": [
      "Collecting riverNote: you may need to restart the kernel to use updated packages.\n",
      "\n",
      "  Downloading river-0.22.0-cp313-cp313-win_amd64.whl.metadata (9.0 kB)\n",
      "Requirement already satisfied: numpy>=1.23.0 in c:\\users\\sulen\\anaconda3\\lib\\site-packages (from river) (2.1.3)\n",
      "Requirement already satisfied: pandas<3.0.0,>=2.2.3 in c:\\users\\sulen\\anaconda3\\lib\\site-packages (from river) (2.2.3)\n",
      "Requirement already satisfied: scipy<2.0.0,>=1.14.1 in c:\\users\\sulen\\anaconda3\\lib\\site-packages (from river) (1.15.3)\n",
      "Requirement already satisfied: python-dateutil>=2.8.2 in c:\\users\\sulen\\anaconda3\\lib\\site-packages (from pandas<3.0.0,>=2.2.3->river) (2.9.0.post0)\n",
      "Requirement already satisfied: pytz>=2020.1 in c:\\users\\sulen\\anaconda3\\lib\\site-packages (from pandas<3.0.0,>=2.2.3->river) (2024.1)\n",
      "Requirement already satisfied: tzdata>=2022.7 in c:\\users\\sulen\\anaconda3\\lib\\site-packages (from pandas<3.0.0,>=2.2.3->river) (2025.2)\n",
      "Requirement already satisfied: six>=1.5 in c:\\users\\sulen\\anaconda3\\lib\\site-packages (from python-dateutil>=2.8.2->pandas<3.0.0,>=2.2.3->river) (1.17.0)\n",
      "Downloading river-0.22.0-cp313-cp313-win_amd64.whl (2.3 MB)\n",
      "   ---------------------------------------- 0.0/2.3 MB ? eta -:--:--\n",
      "   ---- ----------------------------------- 0.3/2.3 MB ? eta -:--:--\n",
      "   --------------------------- ------------ 1.6/2.3 MB 4.9 MB/s eta 0:00:01\n",
      "   ---------------------------------------- 2.3/2.3 MB 4.3 MB/s eta 0:00:00\n",
      "Installing collected packages: river\n",
      "Successfully installed river-0.22.0\n"
     ]
    }
   ],
   "source": [
    "pip install river"
   ]
  },
  {
   "cell_type": "code",
   "execution_count": 26,
   "id": "392e69b4-8c63-4d06-b570-7920f5a77a20",
   "metadata": {},
   "outputs": [],
   "source": [
    "df=pd.read_csv(r\"C:\\Users\\sulen\\OneDrive\\Masaüstü\\Python ile Veri Analizi Atölyesi\\CICIDS2017_sample_km.csv\")"
   ]
  },
  {
   "cell_type": "markdown",
   "id": "081806ea-2511-4b35-b71f-72ffee83c29c",
   "metadata": {},
   "source": [
    "CICIDS2017 veri seti, ağ trafiği üzerinde gerçekleşen normal ve saldırı türlerini içeren kapsamlı bir veri setidir. Veri seti, her bir ağ akışı (flow) için paket sayısı, bayt uzunluğu, paket uzunluğu istatistikleri, bayt/paket oranları, zaman aralıkları ve TCP bayrakları gibi çok sayıda özellik sunar. Bu çalışmada veri setindeki Label sütunu, her akışın normal mi yoksa hangi saldırı türüne ait olduğunu belirlemektedir."
   ]
  },
  {
   "cell_type": "code",
   "execution_count": 27,
   "id": "ae816ab4-03d2-4de0-8a50-ce48f48c9372",
   "metadata": {},
   "outputs": [
    {
     "data": {
      "text/plain": [
       "Label\n",
       "0    18225\n",
       "3     3042\n",
       "6     2180\n",
       "1     1966\n",
       "5     1255\n",
       "2       96\n",
       "4       36\n",
       "Name: count, dtype: int64"
      ]
     },
     "execution_count": 27,
     "metadata": {},
     "output_type": "execute_result"
    }
   ],
   "source": [
    "#'Label' sütunundaki sınıf dağılımını sayar\n",
    "df.Label.value_counts()"
   ]
  },
  {
   "cell_type": "markdown",
   "id": "eac04141-ab39-4a77-b287-d6cfe75aba76",
   "metadata": {},
   "source": [
    "Label sütununda yer alan her bir sınıfın kaç örnek içerdiğini sayarak sınıf dağılımını gösterir. Elde edilen çıktı, veri setinin oldukça dengesiz olduğunu ortaya koymaktadır; bazı sınıflar çok fazla örnek içerirken (örneğin sınıf 0: 18.225 örnek), bazı sınıflar çok az örnek içeriyor (örneğin sınıf 4: 36 örnek, sınıf 2: 96 örnek). Bu bilgi, sınıf dengesizliğinin model performansını olumsuz etkileyebileceğini gösterir"
   ]
  },
  {
   "cell_type": "code",
   "execution_count": 28,
   "id": "81457321-22e0-4303-941a-c02fc6e3f92f",
   "metadata": {},
   "outputs": [],
   "source": [
    "# Özellikler ve hedef değişkenin ayrılması\n",
    "X = df.drop([\"Label\"], axis=1)  # Label sütunu hariç tüm sütunlar modelin girdi özellikleri olacak\n",
    "y = df[\"Label\"]                 # Label sütunu hedef değişken (sınıflandırma için)\n",
    "\n",
    "# Veriyi eğitim ve test olarak bölme\n",
    "X_train, X_test, y_train, y_test = train_test_split(\n",
    "    X, y, \n",
    "    train_size=0.8,  # %80 eğitim verisi\n",
    "    test_size=0.2,   # %20 test verisi\n",
    "    random_state=0   # Bölünmenin tekrarlanabilir olması için sabit rastgele durum\n",
    ")"
   ]
  },
  {
   "cell_type": "code",
   "execution_count": 29,
   "id": "eaab686d-64ae-451b-a50f-9340eed14151",
   "metadata": {},
   "outputs": [
    {
     "data": {
      "text/plain": [
       "Label\n",
       "0    14569\n",
       "3     2430\n",
       "6     1728\n",
       "1     1579\n",
       "5     1024\n",
       "2       82\n",
       "4       28\n",
       "Name: count, dtype: int64"
      ]
     },
     "execution_count": 29,
     "metadata": {},
     "output_type": "execute_result"
    }
   ],
   "source": [
    "# Eğitim verisindeki hedef sınıfların her birinin kaç örnek içerdiğini sayar\n",
    "pd.Series(y_train).value_counts()"
   ]
  },
  {
   "cell_type": "markdown",
   "id": "0e662ddc-24c5-4a91-8f74-81500bffa74c",
   "metadata": {},
   "source": [
    "Eğitim veri setindeki Label dağılımına bakıldığında, sınıf 0 en baskın sınıf olup 14.569 örnek içerirken, sınıf 4 ve sınıf 2 çok az örnek içermektedir (sırasıyla 28 ve 82 örnek). Bu durum, veri setinin dengesiz olduğunu ve modellerin azınlık sınıfları doğru tahmin etme performansını olumsuz etkileyebileceğini göstermektedir. Bu dengesizliği gidermek için SMOTE yöntemi uygulanarak azınlık sınıflarına yapay örnekler eklenecektir. Böylece sınıflar arası dağılım daha dengeli hale getirilecek ve modelin özellikle sınıf 2 ve sınıf 4 gibi nadir görülen saldırı türlerini de daha iyi öğrenmesi sağlanacaktır. Bu sayede, sınıflandırma performansının hem doğruluk hem de genelleme açısından iyileştirilmesi beklenmektedir."
   ]
  },
  {
   "cell_type": "code",
   "execution_count": 33,
   "id": "05e56846-f7e2-481b-bb0f-74fbc8c529bc",
   "metadata": {},
   "outputs": [],
   "source": [
    "# Azınlık sınıflarının sayısını artırmak için SMOTE yöntemi ile örnekleme yapılır\n",
    "from imblearn.over_sampling import SMOTE\n",
    "smote=SMOTE(sampling_strategy={2:1000,4:1000})"
   ]
  },
  {
   "cell_type": "code",
   "execution_count": 34,
   "id": "ef49aeae-ff24-4450-9c5f-88ec19e92755",
   "metadata": {},
   "outputs": [],
   "source": [
    "# Eğitim verisi, SMOTE yöntemi ile yeniden örneklenerek dengeli hale getirilir\n",
    "X_train,y_train=smote.fit_resample(X_train,y_train)"
   ]
  },
  {
   "cell_type": "code",
   "execution_count": 35,
   "id": "daa2eb98-2c53-4a29-a078-83d646e588db",
   "metadata": {},
   "outputs": [
    {
     "data": {
      "text/plain": [
       "Label\n",
       "0    14569\n",
       "3     2430\n",
       "6     1728\n",
       "1     1579\n",
       "5     1024\n",
       "2     1000\n",
       "4     1000\n",
       "Name: count, dtype: int64"
      ]
     },
     "execution_count": 35,
     "metadata": {},
     "output_type": "execute_result"
    }
   ],
   "source": [
    "# Eğitim verisindeki sınıf dağılımlarını gösterir\n",
    "pd.Series(y_train).value_counts()"
   ]
  },
  {
   "cell_type": "markdown",
   "id": "c431fbd6-5861-4e2a-b3f8-ad16af50eb6f",
   "metadata": {},
   "source": [
    "Sonuçlar, SMOTE uygulanmış eğitim veri kümesinde sınıf dağılımlarını göstermektedir. Özellikle 2 ve 4 numaralı sınıflar daha önce çok düşük örnek sayısına sahipken (96 ve 36), SMOTE sayesinde her biri 1000 örneğe tamamlanmıştır. Bu dengeleme işlemi, modelin azınlık sınıflarını daha iyi öğrenmesine olanak sağlayarak sınıflar arası adaletsizliği azaltır. Böylece, eğitim sırasında modelin yalnızca yoğun örneklenen sınıflara odaklanması engellenmiş olur ve daha adil bir sınıflandırma performansı elde edilmesi beklenir."
   ]
  },
  {
   "cell_type": "code",
   "execution_count": 36,
   "id": "ce8c3ed8-2f25-45a1-aeaf-7d1e542a30a6",
   "metadata": {},
   "outputs": [
    {
     "name": "stdout",
     "output_type": "stream",
     "text": [
      "[LightGBM] [Warning] Found whitespace in feature_names, replace with underlines\n",
      "[LightGBM] [Info] Auto-choosing row-wise multi-threading, the overhead of testing was 0.008353 seconds.\n",
      "You can set `force_row_wise=true` to remove the overhead.\n",
      "And if memory is not enough, you can set `force_col_wise=true`.\n",
      "[LightGBM] [Info] Total Bins 14114\n",
      "[LightGBM] [Info] Number of data points in the train set: 23330, number of used features: 63\n",
      "[LightGBM] [Info] Start training from score -0.470844\n",
      "[LightGBM] [Info] Start training from score -2.692948\n",
      "[LightGBM] [Info] Start training from score -3.149740\n",
      "[LightGBM] [Info] Start training from score -2.261849\n",
      "[LightGBM] [Info] Start training from score -3.149740\n",
      "[LightGBM] [Info] Start training from score -3.126024\n",
      "[LightGBM] [Info] Start training from score -2.602775\n",
      "[LightGBM] [Warning] No further splits with positive gain, best gain: -inf\n",
      "[LightGBM] [Warning] No further splits with positive gain, best gain: -inf\n",
      "[LightGBM] [Warning] No further splits with positive gain, best gain: -inf\n",
      "[LightGBM] [Warning] No further splits with positive gain, best gain: -inf\n",
      "[LightGBM] [Warning] No further splits with positive gain, best gain: -inf\n",
      "[LightGBM] [Warning] No further splits with positive gain, best gain: -inf\n",
      "[LightGBM] [Warning] No further splits with positive gain, best gain: -inf\n",
      "[LightGBM] [Warning] No further splits with positive gain, best gain: -inf\n",
      "[LightGBM] [Warning] No further splits with positive gain, best gain: -inf\n",
      "[LightGBM] [Warning] No further splits with positive gain, best gain: -inf\n",
      "[LightGBM] [Warning] No further splits with positive gain, best gain: -inf\n",
      "[LightGBM] [Warning] No further splits with positive gain, best gain: -inf\n",
      "[LightGBM] [Warning] No further splits with positive gain, best gain: -inf\n",
      "[LightGBM] [Warning] No further splits with positive gain, best gain: -inf\n",
      "[LightGBM] [Warning] No further splits with positive gain, best gain: -inf\n",
      "[LightGBM] [Warning] No further splits with positive gain, best gain: -inf\n",
      "[LightGBM] [Warning] No further splits with positive gain, best gain: -inf\n",
      "[LightGBM] [Warning] No further splits with positive gain, best gain: -inf\n",
      "[LightGBM] [Warning] No further splits with positive gain, best gain: -inf\n",
      "[LightGBM] [Warning] No further splits with positive gain, best gain: -inf\n",
      "[LightGBM] [Warning] No further splits with positive gain, best gain: -inf\n",
      "[LightGBM] [Warning] No further splits with positive gain, best gain: -inf\n",
      "[LightGBM] [Warning] No further splits with positive gain, best gain: -inf\n",
      "[LightGBM] [Warning] No further splits with positive gain, best gain: -inf\n",
      "[LightGBM] [Warning] No further splits with positive gain, best gain: -inf\n",
      "[LightGBM] [Warning] No further splits with positive gain, best gain: -inf\n",
      "[LightGBM] [Warning] No further splits with positive gain, best gain: -inf\n",
      "[LightGBM] [Warning] No further splits with positive gain, best gain: -inf\n",
      "[LightGBM] [Warning] No further splits with positive gain, best gain: -inf\n",
      "[LightGBM] [Warning] No further splits with positive gain, best gain: -inf\n",
      "[LightGBM] [Warning] No further splits with positive gain, best gain: -inf\n",
      "[LightGBM] [Warning] No further splits with positive gain, best gain: -inf\n",
      "[LightGBM] [Warning] No further splits with positive gain, best gain: -inf\n",
      "[LightGBM] [Warning] No further splits with positive gain, best gain: -inf\n",
      "[LightGBM] [Warning] No further splits with positive gain, best gain: -inf\n",
      "[LightGBM] [Warning] No further splits with positive gain, best gain: -inf\n",
      "              precision    recall  f1-score   support\n",
      "\n",
      "           0       1.00      1.00      1.00      3656\n",
      "           1       0.99      0.99      0.99       387\n",
      "           2       1.00      1.00      1.00        14\n",
      "           3       1.00      1.00      1.00       612\n",
      "           4       1.00      0.75      0.86         8\n",
      "           5       0.99      1.00      0.99       231\n",
      "           6       1.00      0.99      1.00       452\n",
      "\n",
      "    accuracy                           1.00      5360\n",
      "   macro avg       1.00      0.96      0.98      5360\n",
      "weighted avg       1.00      1.00      1.00      5360\n",
      "\n",
      "Accuracy of LightGBM:0.9968283582089552\n",
      "Precision of LightGBM: 0.9968374702090622\n",
      "Recall of LightGBM: 0.9968283582089552\n",
      "Average F1 of LightGBM:0.9968021983426191\n",
      "F1 of LightGBM for each type of attack: [0.99794998 0.99224806 1.         0.99672668 0.85714286 0.99354839\n",
      " 0.99555556]\n"
     ]
    },
    {
     "data": {
      "image/png": "[encoded data removed]",
      "text/plain": [
       "<Figure size 500x500 with 2 Axes>"
      ]
     },
     "metadata": {},
     "output_type": "display_data"
    }
   ],
   "source": [
    "# LIGHTGBM algoritması ile modeli oluşturup eğitim ve test işlemini gerçekleştirme\n",
    "import lightgbm as lgb\n",
    "\n",
    "# LightGBM sınıflandırıcısını tanımla\n",
    "lg = lgb.LGBMClassifier()\n",
    "\n",
    "# Modeli eğitim verisi ile eğit\n",
    "lg.fit(X_train, y_train)\n",
    "\n",
    "# Test verisi üzerinde tahmin yap\n",
    "y_pred = lg.predict(X_test)\n",
    "\n",
    "# Sınıflandırma raporu ve başarı metrikleri\n",
    "print(classification_report(y_test,y_pred))\n",
    "print(\"Accuracy of LightGBM:\"+ str(accuracy_score(y_test, y_pred)))\n",
    "print(\"Precision of LightGBM: \"+ str(precision_score(y_test, y_pred, average='weighted')))\n",
    "print(\"Recall of LightGBM: \"+ str(recall_score(y_test, y_pred, average='weighted')))\n",
    "print(\"Average F1 of LightGBM:\"+ str(f1_score(y_test, y_pred, average='weighted')))\n",
    "print(\"F1 of LightGBM for each type of attack: \"+ str(f1_score(y_test, y_pred,average=None)))\n",
    "\n",
    "# Sınıf bazlı F1 skorlarını kaydet\n",
    "lg_f1=f1_score(y_test,y_pred,average=None)\n",
    "\n",
    "# Karışıklık matrisi (confusion matrix) hesaplama ve görselleştirme\n",
    "cm=confusion_matrix(y_test,y_pred)\n",
    "f,ax=plt.subplots(figsize=(5,5))\n",
    "sns.heatmap(cm,annot=True,linewidth=0.5,linecolor=\"red\",fmt=\".0f\",ax=ax)\n",
    "plt.xlabel(\"y_pred\")\n",
    "plt.ylabel(\"y_true\")\n",
    "plt.show()"
   ]
  },
  {
   "cell_type": "markdown",
   "id": "91f37ccd-457e-41ea-a048-597d2f7e85f4",
   "metadata": {},
   "source": [
    "LightGBM modeliyle elde edilen sonuçlar incelendiğinde, doğruluk oranının %99,68 gibi oldukça yüksek olduğu görülmektedir. Çoğu sınıfta precision, recall ve F1 skorlarının 0,99 ile 1,00 aralığında olması, modelin hem doğru tahmin yapmada hem de pozitif örnekleri yakalamada son derece başarılı olduğunu göstermektedir. Bununla birlikte, “4” numaralı sınıfta recall değeri %75 olarak gözlemlenmiş ve bu durum bazı örneklerin doğru sınıflandırılamadığını ortaya koymuştur. Diğer sınıflarda performansın neredeyse hatasız olması, modelin genel başarısına önemli ölçüde katkı sağlamaktadır. Sonuç olarak, LightGBM modeli bu veri setinde sınıfları ayırt etmede oldukça güçlü bir performans sergilemiştir.\n",
    "\n",
    "Confusion matrix incelendiğinde, modelin çoğu sınıfta yüksek doğrulukla tahmin yaptığı açıkça görülmektedir. Özellikle sınıf 0, 1, 3, 5 ve 6’da neredeyse tüm örnekler doğru sınıflandırılmış olup, diagonal değerlerin yüksekliği modelin başarısını desteklemektedir. Buna karşılık, sınıf 4’te doğru tahmin sayısının düşük olduğu ve bazı örneklerin diğer sınıflara kaydığı gözlemlenmektedir; bu durum, recall değerinin %75 olmasına sebep olmuştur. Ayrıca, örnek sayısı az olan sınıf 2’de doğru tahminler yapılmış olsa da veri dengesizliği nedeniyle bu sonuçların genellenebilirliği sınırlı olabilir."
   ]
  },
  {
   "cell_type": "code",
   "execution_count": 37,
   "id": "11ddda2e-e786-4fd1-b1b9-025d65e8c04a",
   "metadata": {},
   "outputs": [
    {
     "name": "stdout",
     "output_type": "stream",
     "text": [
      "              precision    recall  f1-score   support\n",
      "\n",
      "           0       1.00      1.00      1.00      3656\n",
      "           1       0.99      0.99      0.99       387\n",
      "           2       1.00      1.00      1.00        14\n",
      "           3       1.00      1.00      1.00       612\n",
      "           4       1.00      0.75      0.86         8\n",
      "           5       0.99      1.00      0.99       231\n",
      "           6       1.00      1.00      1.00       452\n",
      "\n",
      "    accuracy                           1.00      5360\n",
      "   macro avg       1.00      0.96      0.98      5360\n",
      "weighted avg       1.00      1.00      1.00      5360\n",
      "\n",
      "Accuracy of XGBoost: 0.9972014925373134\n",
      "Precision of XGBoost: 0.9972055211678928\n",
      "Recall of XGBoost: 0.9972014925373134\n",
      "Average F1 of XGBoost: 0.997174284135469\n",
      "F1 of XGBoost for each class: [0.99808639 0.99092088 1.         0.99918367 0.85714286 0.99137931\n",
      " 0.99778271]\n"
     ]
    },
    {
     "data": {
      "image/png": "[encoded data removed]",
      "text/plain": [
       "<Figure size 700x700 with 2 Axes>"
      ]
     },
     "metadata": {},
     "output_type": "display_data"
    }
   ],
   "source": [
    "# XGBoost sınıflandırıcıyı oluşturuyoruz\n",
    "import xgboost as xgb\n",
    "xg = xgb.XGBClassifier()\n",
    "\n",
    "# Eğitim ve test verilerini NumPy array'ine çeviriyoruz\n",
    "X_train_x = X_train.values\n",
    "X_test_x = X_test.values\n",
    "\n",
    "# Modeli eğitim verisiyle eğitiyoruz\n",
    "xg.fit(X_train_x, y_train)\n",
    "\n",
    "# Test verisi üzerinde tahmin yapıyoruz\n",
    "y_pred = xg.predict(X_test_x)\n",
    "\n",
    "# Sınıf bazlı precision, recall ve F1 skorlarını görüntülüyoruz\n",
    "from sklearn.metrics import classification_report, accuracy_score, precision_score, recall_score, f1_score, confusion_matrix\n",
    "print(classification_report(y_test, y_pred))\n",
    "\n",
    "# Genel doğruluk ve ağırlıklı metrikleri yazdırıyoruz\n",
    "print(\"Accuracy of XGBoost: \"+ str(accuracy_score(y_test, y_pred)))\n",
    "print(\"Precision of XGBoost: \"+ str(precision_score(y_test, y_pred, average='weighted')))\n",
    "print(\"Recall of XGBoost: \"+ str(recall_score(y_test, y_pred, average='weighted')))\n",
    "print(\"Average F1 of XGBoost: \"+ str(f1_score(y_test, y_pred, average='weighted')))\n",
    "\n",
    "# Sınıf bazlı F1 skorlarını alıyoruz\n",
    "xg_f1 = f1_score(y_test, y_pred, average=None)\n",
    "print(\"F1 of XGBoost for each class: \"+ str(xg_f1))\n",
    "\n",
    "# Confusion matrix'i oluşturuyor ve görselleştiriyoruz\n",
    "import seaborn as sns\n",
    "import matplotlib.pyplot as plt\n",
    "cm = confusion_matrix(y_test, y_pred)\n",
    "f, ax = plt.subplots(figsize=(7,7))\n",
    "sns.heatmap(cm, annot=True, linewidth=0.5, linecolor=\"red\", fmt=\".0f\", ax=ax)\n",
    "plt.xlabel(\"Predicted labels\")\n",
    "plt.ylabel(\"True labels\")\n",
    "plt.show()"
   ]
  },
  {
   "cell_type": "markdown",
   "id": "3402afe1-a83e-4e01-bc2b-42efc3562812",
   "metadata": {},
   "source": [
    "XGBoost modeli test setinde oldukça yüksek bir başarı göstermiştir. Genel doğruluk oranı %99,72, ağırlıklı precision %99,72, recall %99,72 ve ortalama F1 skoru %99,72 olarak hesaplanmıştır. Bu değerler, modelin çoğu sınıfta neredeyse hatasız tahmin yaptığını ortaya koymaktadır.\n",
    "\n",
    "Sınıf bazlı değerlere bakıldığında, sınıf 0, 1, 2, 3, 5 ve 6’da precision, recall ve F1 skorları 0,99 ile 1,00 arasında olup modelin bu sınıflarda örnekleri başarılı şekilde ayırt ettiğini göstermektedir. Sınıf 4 ise recall değeri %75 ve F1 skoru 0,86 olarak gözlemlenmiş, bu da bazı örneklerin diğer sınıflara kaydığını ve nadir örnekli sınıflarda modelin sınırlı performans gösterebileceğini işaret etmektedir.\n",
    "\n",
    "Confusion matrix incelendiğinde, çoğu sınıfın diagonal değerlerinin yüksek olduğu ve yanlış sınıflandırmaların nadir olduğu görülmektedir. Örneğin sınıf 0’da 3656 örnekten yalnızca 5’i yanlış tahmin edilmiş, sınıf 1’de 387 örnekten 5 tanesi yanlış sınıflandırılmıştır. Sınıf 4’te 8 örnekten 2’si yanlış sınıflandırılmıştır, bu da F1 skorundaki düşüşü açıklamaktadır."
   ]
  },
  {
   "cell_type": "code",
   "execution_count": 38,
   "id": "40a1f34b-afe4-4ad1-b57f-1e9b4c8f8886",
   "metadata": {},
   "outputs": [
    {
     "name": "stdout",
     "output_type": "stream",
     "text": [
      "              precision    recall  f1-score   support\n",
      "\n",
      "           0       1.00      1.00      1.00      3656\n",
      "           1       0.99      0.99      0.99       387\n",
      "           2       1.00      1.00      1.00        14\n",
      "           3       1.00      1.00      1.00       612\n",
      "           4       1.00      0.62      0.77         8\n",
      "           5       0.99      1.00      0.99       231\n",
      "           6       1.00      0.99      0.99       452\n",
      "\n",
      "    accuracy                           1.00      5360\n",
      "   macro avg       1.00      0.94      0.96      5360\n",
      "weighted avg       1.00      1.00      1.00      5360\n",
      "\n",
      "Accuracy of CatBoost: 0.996455223880597\n",
      "Precision of CatBoost: 0.9964593014616641\n",
      "Recall of CatBoost: 0.996455223880597\n",
      "Average F1 of CatBoost: 0.9963911007926016\n",
      "F1 of CatBoost for each class: [0.99781301 0.99222798 1.         0.99673203 0.76923077 0.99137931\n",
      " 0.9944629 ]\n"
     ]
    },
    {
     "data": {
      "image/png": "[encoded data removed]",
      "text/plain": [
       "<Figure size 700x700 with 2 Axes>"
      ]
     },
     "metadata": {},
     "output_type": "display_data"
    }
   ],
   "source": [
    "# CatBoost sınıflandırıcıyı oluşturuyoruz\n",
    "import catboost as cbt\n",
    "cb = cbt.CatBoostClassifier(verbose=0, boosting_type='Plain')  # verbose=0 ile eğitim sırasında mesaj bastırmıyoruz\n",
    "\n",
    "# Modeli eğitim verisi ile eğitiyoruz\n",
    "cb.fit(X_train, y_train)\n",
    "\n",
    "# Test verisi üzerinde tahmin yapıyoruz\n",
    "y_pred = cb.predict(X_test)\n",
    "\n",
    "# Sınıf bazlı precision, recall ve F1 skorlarını yazdırıyoruz\n",
    "from sklearn.metrics import classification_report, accuracy_score, precision_score, recall_score, f1_score, confusion_matrix\n",
    "print(classification_report(y_test, y_pred))\n",
    "\n",
    "# Genel doğruluk ve ağırlıklı metrikleri yazdırıyoruz\n",
    "print(\"Accuracy of CatBoost: \"+ str(accuracy_score(y_test, y_pred)))\n",
    "print(\"Precision of CatBoost: \"+ str(precision_score(y_test, y_pred, average='weighted')))\n",
    "print(\"Recall of CatBoost: \"+ str(recall_score(y_test, y_pred, average='weighted')))\n",
    "print(\"Average F1 of CatBoost: \"+ str(f1_score(y_test, y_pred, average='weighted')))\n",
    "\n",
    "# Sınıf bazlı F1 skorlarını alıyoruz\n",
    "cb_f1 = f1_score(y_test, y_pred, average=None)\n",
    "print(\"F1 of CatBoost for each class: \"+ str(cb_f1))\n",
    "\n",
    "# Confusion matrix'i oluşturup görselleştiriyoruz\n",
    "import seaborn as sns\n",
    "import matplotlib.pyplot as plt\n",
    "cm = confusion_matrix(y_test, y_pred)\n",
    "f, ax = plt.subplots(figsize=(7,7))\n",
    "sns.heatmap(cm, annot=True, linewidth=0.5, linecolor=\"red\", fmt=\".0f\", ax=ax)\n",
    "plt.xlabel(\"Predicted labels\")\n",
    "plt.ylabel(\"True labels\")\n",
    "plt.show()    "
   ]
  },
  {
   "cell_type": "markdown",
   "id": "113f480e-a187-43c6-a3ed-1b0dff5f5d81",
   "metadata": {},
   "source": [
    "CatBoost modeli test setinde genel olarak güçlü bir performans göstermiştir. Modelin doğruluk oranı %99,65, ağırlıklı precision %99,65, recall %99,65 ve ortalama F1 skoru %99,64 olarak hesaplanmıştır. Bu yüksek değerler, modelin çoğu sınıfta doğru tahminler yaptığını ve veri setinde güvenilir bir sınıflandırıcı olduğunu göstermektedir.\n",
    "\n",
    "Sınıf bazlı değerlere bakıldığında, sınıf 0, 1, 2, 3, 5 ve 6’da F1 skorları 0,99 ile 1,00 arasında olup, modelin bu sınıflarda örnekleri doğru şekilde ayırt edebildiği görülmektedir. Sınıf 4 ise recall değeri %62 ve F1 skoru 0,77 olarak ölçülmüş; bu, nadir örnek içeren bu sınıfta modelin bazı tahminlerde hata yaptığını ve örneklerin diğer sınıflara kaydığını göstermektedir. Confusion matrix incelendiğinde, çoğu sınıfın diagonal değerlerinin yüksek olduğu ve yanlış sınıflandırmaların nadir olduğu doğrulanmaktadır. Örneğin sınıf 0’da 3656 örnekten 6’sı yanlış tahmin edilmiş, sınıf 4’te 8 örnekten 3’ü doğru sınıflandırılamamıştır."
   ]
  },
  {
   "cell_type": "code",
   "execution_count": 39,
   "id": "26c2566a-6c85-4fe1-a81e-b309fe72b3e3",
   "metadata": {},
   "outputs": [],
   "source": [
    "# Her sınıf için F1 skorlarını karşılaştırarak en iyi performansı veren modeli belirliyoruz\n",
    "model = []  # Sınıf bazlı en iyi modeli tutacak liste\n",
    "\n",
    "for i in range(len(lg_f1)):\n",
    "    # lg_f1, xg_f1 ve cb_f1 listelerindeki F1 skorlarını karşılaştır\n",
    "    if max(lg_f1[i], xg_f1[i], cb_f1[i]) == lg_f1[i]:\n",
    "        model.append(lg)  # LightGBM en yüksek F1 skoru ise\n",
    "    elif max(lg_f1[i], xg_f1[i], cb_f1[i]) == xg_f1[i]:\n",
    "        model.append(xg)  # XGBoost en yüksek F1 skoru ise\n",
    "    else:\n",
    "        model.append(cb)  # CatBoost en yüksek F1 skoru ise"
   ]
  },
  {
   "cell_type": "code",
   "execution_count": 40,
   "id": "d3966e9e-08a6-4bb4-bd89-553deca62467",
   "metadata": {},
   "outputs": [
    {
     "data": {
      "text/plain": [
       "[XGBClassifier(base_score=None, booster=None, callbacks=None,\n",
       "               colsample_bylevel=None, colsample_bynode=None,\n",
       "               colsample_bytree=None, device=None, early_stopping_rounds=None,\n",
       "               enable_categorical=False, eval_metric=None, feature_types=None,\n",
       "               feature_weights=None, gamma=None, grow_policy=None,\n",
       "               importance_type=None, interaction_constraints=None,\n",
       "               learning_rate=None, max_bin=None, max_cat_threshold=None,\n",
       "               max_cat_to_onehot=None, max_delta_step=None, max_depth=None,\n",
       "               max_leaves=None, min_child_weight=None, missing=nan,\n",
       "               monotone_constraints=None, multi_strategy=None, n_estimators=None,\n",
       "               n_jobs=None, num_parallel_tree=None, ...),\n",
       " LGBMClassifier(),\n",
       " LGBMClassifier(),\n",
       " XGBClassifier(base_score=None, booster=None, callbacks=None,\n",
       "               colsample_bylevel=None, colsample_bynode=None,\n",
       "               colsample_bytree=None, device=None, early_stopping_rounds=None,\n",
       "               enable_categorical=False, eval_metric=None, feature_types=None,\n",
       "               feature_weights=None, gamma=None, grow_policy=None,\n",
       "               importance_type=None, interaction_constraints=None,\n",
       "               learning_rate=None, max_bin=None, max_cat_threshold=None,\n",
       "               max_cat_to_onehot=None, max_delta_step=None, max_depth=None,\n",
       "               max_leaves=None, min_child_weight=None, missing=nan,\n",
       "               monotone_constraints=None, multi_strategy=None, n_estimators=None,\n",
       "               n_jobs=None, num_parallel_tree=None, ...),\n",
       " LGBMClassifier(),\n",
       " LGBMClassifier(),\n",
       " XGBClassifier(base_score=None, booster=None, callbacks=None,\n",
       "               colsample_bylevel=None, colsample_bynode=None,\n",
       "               colsample_bytree=None, device=None, early_stopping_rounds=None,\n",
       "               enable_categorical=False, eval_metric=None, feature_types=None,\n",
       "               feature_weights=None, gamma=None, grow_policy=None,\n",
       "               importance_type=None, interaction_constraints=None,\n",
       "               learning_rate=None, max_bin=None, max_cat_threshold=None,\n",
       "               max_cat_to_onehot=None, max_delta_step=None, max_depth=None,\n",
       "               max_leaves=None, min_child_weight=None, missing=nan,\n",
       "               monotone_constraints=None, multi_strategy=None, n_estimators=None,\n",
       "               n_jobs=None, num_parallel_tree=None, ...)]"
      ]
     },
     "execution_count": 40,
     "metadata": {},
     "output_type": "execute_result"
    }
   ],
   "source": [
    "model"
   ]
  },
  {
   "cell_type": "code",
   "execution_count": 41,
   "id": "0aad825f-b4fc-4e0a-8661-24fe6b66323b",
   "metadata": {},
   "outputs": [],
   "source": [
    "def LCCDE(X_test,y_test,m1,m2,m3):\n",
    "    i=0\n",
    "    t=[]\n",
    "    m=[]\n",
    "    yt=[]\n",
    "    yp=[]\n",
    "    l=[]\n",
    "    pred_l=[]\n",
    "    pro_l=[]\n",
    "\n",
    "    # her sınıf için normal ve atak paketleri olarak en iyi modeli bulmak\n",
    "    for xi,yi in stream.iter_pandas(X_test,y_test):\n",
    "        xi2=np.array(list(xi.values()))\n",
    "        \n",
    "        # model 1 (LightGBM) model üzerinde tahminde bulunur xi\n",
    "        y_pred1=m1.predict(xi2.reshape(1,-1))\n",
    "        y_pred1=int(y_pred1[0])\n",
    "        \n",
    "        # model 2 (XGBoost) model üzerinde tahminde bulunur xi\n",
    "        y_pred2=m2.predict(xi2.reshape(1,-1))\n",
    "        y_pred2=int(y_pred2[0])\n",
    "        \n",
    "        # model 3 (CatBoost) model üzerinde tahminde bulunur xi\n",
    "        y_pred3=m3.predict(xi2.reshape(1,-1))\n",
    "        y_pred3=int(y_pred3[0])\n",
    "\n",
    "        # model 1'in tahmin olasılığı (güven) listesi\n",
    "        p1=m1.predict_proba(xi2.reshape(1,-1))\n",
    "        # model 2'nin tahmin olasılığı (güven) listesi\n",
    "        p2=m2.predict_proba(xi2.reshape(1,-1))\n",
    "        # model 3'ün tahmin olasılığı (güven) listesi\n",
    "        p3=m3.predict_proba(xi2.reshape(1,-1))\n",
    "\n",
    "        # Her ML modeli için tüm sınıflar arasında en yüksek tahmin olasılığının bulunması\n",
    "        y_pred_p1=np.max(p1)\n",
    "        y_pred_p2=np.max(p2)\n",
    "        y_pred_p3=np.max(p3)\n",
    "\n",
    "        if y_pred1==y_pred2==y_pred3:\n",
    "            # üç modelinde tahmin edilen sınıflar aynı ise\n",
    "            y_pred=y_pred1\n",
    "            # Bu tahmin edilen sınıfı son tahmin edilen sınıf olarak kullan\n",
    "\n",
    "        elif y_pred1 !=y_pred2 != y_pred3:\n",
    "            # değilse eğer, üç modelin de tahmin edilen sınıflar farklıysa:\n",
    "            # Her tahmin modeli için, tahmin edilen sınıfın orijinal ML modelinin\n",
    "            # en iyi sonuç veren modelle aynı olup olmadığını kontrol et.\n",
    "            if model[y_pred1]==m1:\n",
    "                # sınıflar aynı ve en iyi sonuç model 1 ise: (LightGBM)\n",
    "                l.append(m1)\n",
    "                pred_l.append(y_pred1)  # tahmin edilen sınıfı kaydet\n",
    "                pro_l.append(y_pred_p1)\n",
    "\n",
    "            if model[y_pred2]==m2:\n",
    "                l.append(m2)\n",
    "                pred_l.append(y_pred2)  # tahmin edilen sınıfı kaydet\n",
    "                pro_l.append(y_pred_p2)                \n",
    "\n",
    "            if model[y_pred3]==m3:\n",
    "                l.append(m3)\n",
    "                pred_l.append(y_pred3)  # tahmin edilen sınıfı kaydet\n",
    "                pro_l.append(y_pred_p3)\n",
    "\n",
    "            if len(l)==0:\n",
    "                # olasılık listesi boşsa, tüm tahmin olasılıklarını kullan\n",
    "                pro_l=[y_pred_p1,y_pred_p2,y_pred_p3]\n",
    "            elif len(l)==1:\n",
    "                # tahmin edilen her sınıf için orijinal model ve en iyi sonuç veren modelin yalnızca bir çifti aynıysa\n",
    "                y_pred=pred_l[0]  # En iyi modelin tahmin edilen sınıfı son tahmin sınıfı olarak kullan\n",
    "            else:\n",
    "                # birden fazla eşleşme varsa, en yüksek güven listesini bul\n",
    "                max_p=max(pro_l)\n",
    "\n",
    "        else:\n",
    "            # diğer durumlar: en çok tekrar eden tahmini seç\n",
    "            n=mode([y_pred1,y_pred2,y_pred3])\n",
    "            y_pred=model[n].predict(xi2.reshape(1,-1))\n",
    "            y_pred=int(y_pred[0])\n",
    "\n",
    "        yt.append(yi)  # gerçek etiketi listeye ekle\n",
    "        yp.append(y_pred)  # tahmin edilen etiketi listeye ekle\n",
    "\n",
    "    return yt,yp"
   ]
  },
  {
   "cell_type": "code",
   "execution_count": 42,
   "id": "96e46191-e79c-4df9-b331-e4b238b5e5fb",
   "metadata": {},
   "outputs": [
    {
     "name": "stdout",
     "output_type": "stream",
     "text": [
      "CPU times: total: 1min 58s\n",
      "Wall time: 1min 30s\n"
     ]
    }
   ],
   "source": [
    "%%time\n",
    "# Önerilen modelin kurulması ve test verisi üzerinde çalıştırılması:\n",
    "# LCCDE fonksiyonu, LightGBM, XGBoost ve CatBoost modellerinin tahminlerini karşılaştırır\n",
    "# ve her örnek için en iyi performans gösteren modelin tahminini seçerek son tahmini oluşturur\n",
    "yt, yp = LCCDE(X_test, y_test, m1=lg, m2=xg, m3=cb)"
   ]
  },
  {
   "cell_type": "markdown",
   "id": "24da621c-e2c6-469b-8db0-3f9c1319aa55",
   "metadata": {},
   "source": [
    "Önerilen modelin test seti üzerinde çalıştırılması yaklaşık 1 dakika 30 saniye sürmüştür. CPU’nun toplam harcadığı süre ise yaklaşık 1 dakika 58 saniye olarak ölçülmüştür. Bu fark, işlem sırasında bilgisayarın diğer görevleri ve işlem paralelliği nedeniyle oluşan zaman farkını yansıtmaktadır. Fonksiyonun bu sürede tamamlanması, üç modelin (LightGBM, XGBoost ve CatBoost) tahminlerinin tek tek değerlendirilip her örnek için en iyi tahminin seçilmesi işleminin maliyetini göstermektedir. Bu, önerilen modelin hesaplama açısından beklendiği gibi kaynak yoğun bir işlem olduğunu ortaya koymaktadır."
   ]
  },
  {
   "cell_type": "code",
   "execution_count": 43,
   "id": "66456b67-9aab-49a2-addc-15e6bcb7c9a8",
   "metadata": {},
   "outputs": [
    {
     "name": "stdout",
     "output_type": "stream",
     "text": [
      "Accuracy of LCCDE: 0.9970149253731343\n",
      "Precision of LCCDE: 0.9970264662701628\n",
      "Recall of LCCDE: 0.9970149253731343\n",
      "Average F1 of LCCDE: 0.9969889937740274\n",
      "F1 of LCCDE for each type of attack: [0.99795054 0.99220779 1.         0.99836334 0.85714286 0.98924731\n",
      " 0.99778271]\n"
     ]
    }
   ],
   "source": [
    "# Önerilen modelin (LCCDE) performans metriklerinin hesaplanması ve görüntülenmesi:\n",
    "# Accuracy, precision, recall ve F1 skorları ile modelin genel ve sınıf bazlı başarısı ölçülür\n",
    "print(\"Accuracy of LCCDE: \"+ str(accuracy_score(yt,yp)))\n",
    "print(\"Precision of LCCDE: \"+ str(precision_score(yt, yp, average='weighted')))\n",
    "print(\"Recall of LCCDE: \"+ str(recall_score(yt, yp, average='weighted')))\n",
    "print(\"Average F1 of LCCDE: \"+ str(f1_score(yt, yp, average='weighted')))\n",
    "print(\"F1 of LCCDE for each type of attack: \"+ str(f1_score(yt, yp, average=None)))"
   ]
  },
  {
   "cell_type": "markdown",
   "id": "7fe55d8a-2860-4ee4-b418-317334ad50e2",
   "metadata": {},
   "source": [
    "Önerilen model (LCCDE), test verisinde yüksek bir performans göstermiştir. Genel doğruluk, precision, recall ve F1 skorları yaklaşık %99,7 seviyesindedir. Bu, modelin çoğu sınıfta doğru tahminler yaptığını ve güvenilir olduğunu gösterir.\n",
    "\n",
    "Sınıf bazlı F1 skorlarına bakıldığında, çoğu sınıfta değerler 0,98 ile 1,00 arasında olup model oldukça başarılıdır. Sınıf 4 için F1 skoru 0,86 olup, bu sınıfta modelin bazı tahminlerde hata yaptığını göstermektedir."
   ]
  },
  {
   "cell_type": "code",
   "execution_count": 44,
   "id": "71e7fba5-e442-4cd6-ab4f-52410ed3ac91",
   "metadata": {},
   "outputs": [
    {
     "name": "stdout",
     "output_type": "stream",
     "text": [
      "F1 of LightGBM for each type of attack: [0.99794998 0.99224806 1.         0.99672668 0.85714286 0.99354839\n",
      " 0.99555556]\n",
      "F1 of XGBoost for each type of attack: [0.99808639 0.99092088 1.         0.99918367 0.85714286 0.99137931\n",
      " 0.99778271]\n",
      "F1 of CatBoost for each type of attack: [0.99781301 0.99222798 1.         0.99673203 0.76923077 0.99137931\n",
      " 0.9944629 ]\n"
     ]
    }
   ],
   "source": [
    "# Her bir modelin her bir sınıf (sütun) için F1 skorlarını karşılaştırma:\n",
    "# LightGBM, XGBoost ve CatBoost modellerinin sınıf bazlı başarılarını görmek için\n",
    "print(\"F1 of LightGBM for each type of attack: \"+ str(lg_f1))\n",
    "print(\"F1 of XGBoost for each type of attack: \"+ str(xg_f1))\n",
    "print(\"F1 of CatBoost for each type of attack: \"+ str(cb_f1))"
   ]
  },
  {
   "cell_type": "markdown",
   "id": "6a514d32-9807-4f30-819a-c47785c76324",
   "metadata": {},
   "source": [
    "Her üç model de sınıf bazında yüksek F1 skorları göstermektedir. LightGBM ve XGBoost çoğu sınıfta 0,99’un üzerinde F1 değerlerine sahip olup güçlü bir performans sergiler. CatBoost da genellikle yüksek skorlar elde etmiş, ancak sınıf 4’te F1 skoru 0,77 ile diğer modellere göre biraz daha düşük kalmıştır. Genel olarak, tüm modeller veri setinde çoğu sınıfı doğru tahmin edebilmekte ve özellikle az örnekli sınıflarda küçük farklılıklar göstermektedir."
   ]
  },
  {
   "cell_type": "markdown",
   "id": "a0f6db03-15b5-439c-86f3-0a422f167511",
   "metadata": {},
   "source": [
    "Bu proje kapsamında LightGBM, XGBoost ve CatBoost modelleri kullanılarak bir siber saldırı sınıflandırma sistemi geliştirilmiştir. Modellerin sınıf bazlı performansları incelendiğinde, çoğu sınıfta yüksek doğruluk, precision, recall ve F1 skorları elde edilmiş, nadir örnek içeren sınıflarda ise küçük sapmalar gözlemlenmiştir. Üç modelin tahminlerini birleştiren önerilen LCCDE yöntemi, sınıf bazlı en iyi performansı seçerek genel doğruluk ve güvenilirliği artırmıştır. Elde edilen sonuçlar, ensemble ve model seçimi yaklaşımlarının veri dengesizliği olan sınıflarda bile sınıflandırma başarısını iyileştirebileceğini göstermektedir. Bu çalışma, makine öğrenmesi tabanlı saldırı tespit sistemlerinde farklı modellerin birlikte kullanılmasının avantajını ortaya koymaktadır."
   ]
  }
 ],
 "metadata": {
  "kernelspec": {
   "display_name": "Python 3 (ipykernel)",
   "language": "python",
   "name": "python3"
  },
  "language_info": {
   "codemirror_mode": {
    "name": "ipython",
    "version": 3
   },
   "file_extension": ".py",
   "mimetype": "text/x-python",
   "name": "python",
   "nbconvert_exporter": "python",
   "pygments_lexer": "ipython3",
   "version": "3.13.5"
  }
 },
 "nbformat": 4,
 "nbformat_minor": 5
}
