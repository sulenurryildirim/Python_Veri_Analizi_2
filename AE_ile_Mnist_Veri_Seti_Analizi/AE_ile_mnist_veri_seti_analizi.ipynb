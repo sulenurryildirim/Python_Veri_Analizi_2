{
 "cells": [
  {
   "cell_type": "code",
   "execution_count": 1,
   "id": "d3426d9f-6171-44f1-a199-1e0897166fde",
   "metadata": {},
   "outputs": [
    {
     "name": "stdout",
     "output_type": "stream",
     "text": [
      "Training data shapes: X=(60000, 28, 28), y=(60000,)\n",
      "Test data shapes: X=(10000, 28, 28), y=(10000,)\n"
     ]
    },
    {
     "data": {
      "image/png": "[encoded data removed]",
      "text/plain": [
       "<Figure size 640x480 with 5 Axes>"
      ]
     },
     "metadata": {},
     "output_type": "display_data"
    }
   ],
   "source": [
    "# Gerekli kütüphaneleri import ediyoruz\n",
    "import numpy as np\n",
    "import matplotlib.pyplot as plt\n",
    "import pandas as pd\n",
    "import seaborn as sns\n",
    "from tensorflow.keras.datasets import mnist  # MNIST veri setini yüklemek için\n",
    "\n",
    "# MNIST veri setini yükleyip eğitim ve test verilerine ayırıyoruz\n",
    "(trainX, trainy), (testX, testy) = mnist.load_data()\n",
    "\n",
    "# Eğitim ve test veri setlerinin boyutlarını ekrana yazdırıyoruz\n",
    "print(\"Training data shapes: X=%s, y=%s\" % (trainX.shape, trainy.shape))\n",
    "print(\"Test data shapes: X=%s, y=%s\" % (testX.shape, testy.shape))\n",
    "\n",
    "# Eğitim setinden rastgele 5 örnek seçip görselleştiriyoruz\n",
    "for j in range(5):\n",
    "    i = np.random.randint(0, 10000)  # 0-9999 arasında rastgele bir index seç\n",
    "    plt.subplot(550 + 1 + j)         # 5x5 boyutlu subplot alanı (tek satırda 5 görsel)\n",
    "    plt.imshow(trainX[i], cmap=\"gray\")  # Görüntüyü gri tonlamalı olarak göster\n",
    "    plt.title(trainy[i])                # Görüntünün gerçek etiketini başlık olarak ekle\n",
    "plt.show()"
   ]
  },
  {
   "cell_type": "markdown",
   "id": "ca60762c-3def-4553-bd3e-cfaac49fcf66",
   "metadata": {},
   "source": [
    "Bu kod bloğu ile MNIST veri setini yükledik ve eğitim ile test verilerini ayırdık. MNIST, el yazısı rakamlardan oluşan 28x28 boyutunda gri tonlamalı 70.000 görüntü içerir; 60.000 eğitim ve 10.000 test örneği olarak ayrılmıştır. Eğitim ve test veri setlerinin boyutlarını kontrol ettikten sonra, eğitim setinden rastgele seçilen 5 örneği görselleştirdik. Bu görseller sayesinde veri setinin genel yapısı ve rakamların görselliği hakkında hızlı bir fikir sahibi oluyoruz."
   ]
  },
  {
   "cell_type": "code",
   "execution_count": 2,
   "id": "9955eae3-b9a6-4e7e-9fe5-0629e5493c47",
   "metadata": {},
   "outputs": [
    {
     "name": "stdout",
     "output_type": "stream",
     "text": [
      "(60000, 784) (10000, 784)\n"
     ]
    }
   ],
   "source": [
    "# Görüntü piksel değerlerini 0-1 aralığına normalleştiriyoruz, böylece model daha hızlı ve verimli öğrenir\n",
    "trainX = trainX / 255\n",
    "testX = testX / 255\n",
    "\n",
    "# 28x28 boyutundaki görüntüleri tek boyutlu 784 elemanlı vektör hâline getiriyoruz\n",
    "# Autoencoder modeline giriş olarak düzleştirilmiş veri gerekiyor\n",
    "train_data = np.reshape(trainX, (60000, 28*28))\n",
    "test_data = np.reshape(testX, (10000, 28*28))\n",
    "\n",
    "# Yeni boyutları ekrana yazdırıyoruz\n",
    "print(train_data.shape, test_data.shape)"
   ]
  },
  {
   "cell_type": "markdown",
   "id": "48ce83fb-25b2-4e94-8248-c3128ae4fd0c",
   "metadata": {},
   "source": [
    "Gri tonlamalı MNIST görüntülerinin piksel değerleri 0 ile 255 arasında değiştiği için, modelin daha verimli öğrenebilmesi amacıyla tüm değerler 0-1 aralığına normalleştirildi. Ayrıca, Autoencoder modelinde her görüntü tek boyutlu bir vektör olarak işleneceği için 28x28 boyutundaki görüntüler 784 elemanlı dizilere dönüştürüldü. Sonuç olarak, eğitim ve test veri setleri sırasıyla (60000, 784) ve (10000, 784) boyutlarına sahip hâle geldi."
   ]
  },
  {
   "cell_type": "code",
   "execution_count": 3,
   "id": "b82a8d67-03a0-43b6-a644-574b6ba2d9c7",
   "metadata": {},
   "outputs": [],
   "source": [
    "# Autoencoder'in kodlayıcı (encoder) kısmını oluşturuyoruz\n",
    "import tensorflow\n",
    "\n",
    "# Girdi katmanı: 784 boyutlu düzleştirilmiş MNIST görüntüsü\n",
    "input_data = tensorflow.keras.layers.Input(shape=(784,))\n",
    "\n",
    "# İlk yoğun (Dense) katman: 100 nöron\n",
    "encoder = tensorflow.keras.layers.Dense(100)(input_data)\n",
    "encoder = tensorflow.keras.layers.Activation(\"relu\")(encoder)  # ReLU aktivasyonu ile doğrusal olmayan öğrenme\n",
    "\n",
    "# İkinci yoğun katman: 50 nöron\n",
    "encoder = tensorflow.keras.layers.Dense(50)(encoder)\n",
    "encoder = tensorflow.keras.layers.Activation(\"relu\")(encoder)\n",
    "\n",
    "# Üçüncü yoğun katman: 25 nöron\n",
    "encoder = tensorflow.keras.layers.Dense(25)(encoder)\n",
    "encoder = tensorflow.keras.layers.Activation(\"relu\")(encoder)\n",
    "\n",
    "# Kodlanmış katman: 2 boyutlu sıkıştırılmış temsil\n",
    "encoded = tensorflow.keras.layers.Dense(2)(encoder)"
   ]
  },
  {
   "cell_type": "markdown",
   "id": "6f9ea686-ade1-4c0b-83e9-c98bee2a9c22",
   "metadata": {},
   "source": [
    "Bu kod bloğu, Autoencoder’in kodlayıcı kısmını tanımlıyor. Kodlayıcı, 784 boyutlu giriş verisini giderek daha küçük boyutlara sıkıştırarak anlamlı bir temsil öğreniyor. İlk üç yoğun (Dense) katman sırasıyla 100, 50 ve 25 nöronla veriyi kademeli olarak sıkıştırıyor ve her katmanda ReLU aktivasyonu kullanılarak doğrusal olmayan ilişkiler öğreniliyor. Son katman ise veriyi 2 boyutlu bir temsil hâline getiriyor; bu, Autoencoder’in giriş verisini en kompakt ve anlamlı şekilde kodladığı kısmıdır."
   ]
  },
  {
   "cell_type": "code",
   "execution_count": 4,
   "id": "1cf41fd3-7813-423a-a4e8-d952681ff4c9",
   "metadata": {},
   "outputs": [],
   "source": [
    "# Autoencoder’in çözücü (decoder) kısmını oluşturuyoruz\n",
    "# Kodlanmış 2 boyutlu temsilden giriş boyutuna geri dönmeyi amaçlıyor\n",
    "\n",
    "# İlk Dense katman: 25 nöron, ReLU aktivasyonu ile\n",
    "decoder = tensorflow.keras.layers.Dense(25)(encoded)\n",
    "decoder = tensorflow.keras.layers.Activation(\"relu\")(decoder)\n",
    "\n",
    "# İkinci Dense katman: 50 nöron\n",
    "decoder = tensorflow.keras.layers.Dense(50)(decoder)\n",
    "decoder = tensorflow.keras.layers.Activation(\"relu\")(decoder)\n",
    "\n",
    "# Üçüncü Dense katman: 100 nöron\n",
    "decoder = tensorflow.keras.layers.Dense(100)(decoder)\n",
    "decoder = tensorflow.keras.layers.Activation(\"relu\")(decoder)\n",
    "\n",
    "# Çıkış katmanı: 784 boyutlu vektör, giriş görüntüsünü yeniden oluşturur\n",
    "decoded = tensorflow.keras.layers.Dense(784)(decoder)"
   ]
  },
  {
   "cell_type": "markdown",
   "id": "2537b32e-c7de-4b92-b36b-7ce0c0e598d0",
   "metadata": {},
   "source": [
    "Bu kod bloğu, Autoencoder’in çözücü (decoder) kısmını tanımlıyor. Çözücü, kodlayıcı tarafından 2 boyutlu olarak sıkıştırılmış veriyi tekrar orijinal boyuta, yani 784 elemanlı vektöre geri dönüştürmeyi amaçlıyor. İlk üç yoğun katman sırasıyla 25, 50 ve 100 nöronla kademeli olarak boyutu artırıyor ve her katmanda ReLU aktivasyonu kullanılıyor. Son katman, giriş verisinin boyutuna eşit olan 784 nöronla çıktıyı üretiyor, böylece giriş görüntüsünün yeniden oluşturulmasını sağlıyor."
   ]
  },
  {
   "cell_type": "code",
   "execution_count": 5,
   "id": "95192d43-3e1e-48a5-bba4-64e823c76000",
   "metadata": {},
   "outputs": [
    {
     "data": {
      "text/html": [
       "<pre style=\"white-space:pre;overflow-x:auto;line-height:normal;font-family:Menlo,'DejaVu Sans Mono',consolas,'Courier New',monospace\"><span style=\"font-weight: bold\">Model: \"functional\"</span>\n",
       "</pre>\n"
      ],
      "text/plain": [
       "\u001b[1mModel: \"functional\"\u001b[0m\n"
      ]
     },
     "metadata": {},
     "output_type": "display_data"
    },
    {
     "data": {
      "text/html": [
       "<pre style=\"white-space:pre;overflow-x:auto;line-height:normal;font-family:Menlo,'DejaVu Sans Mono',consolas,'Courier New',monospace\">┏━━━━━━━━━━━━━━━━━━━━━━━━━━━━━━━━━┳━━━━━━━━━━━━━━━━━━━━━━━━┳━━━━━━━━━━━━━━━┓\n",
       "┃<span style=\"font-weight: bold\"> Layer (type)                    </span>┃<span style=\"font-weight: bold\"> Output Shape           </span>┃<span style=\"font-weight: bold\">       Param # </span>┃\n",
       "┡━━━━━━━━━━━━━━━━━━━━━━━━━━━━━━━━━╇━━━━━━━━━━━━━━━━━━━━━━━━╇━━━━━━━━━━━━━━━┩\n",
       "│ input_layer (<span style=\"color: #0087ff; text-decoration-color: #0087ff\">InputLayer</span>)        │ (<span style=\"color: #00d7ff; text-decoration-color: #00d7ff\">None</span>, <span style=\"color: #00af00; text-decoration-color: #00af00\">784</span>)            │             <span style=\"color: #00af00; text-decoration-color: #00af00\">0</span> │\n",
       "├─────────────────────────────────┼────────────────────────┼───────────────┤\n",
       "│ dense (<span style=\"color: #0087ff; text-decoration-color: #0087ff\">Dense</span>)                   │ (<span style=\"color: #00d7ff; text-decoration-color: #00d7ff\">None</span>, <span style=\"color: #00af00; text-decoration-color: #00af00\">100</span>)            │        <span style=\"color: #00af00; text-decoration-color: #00af00\">78,500</span> │\n",
       "├─────────────────────────────────┼────────────────────────┼───────────────┤\n",
       "│ activation (<span style=\"color: #0087ff; text-decoration-color: #0087ff\">Activation</span>)         │ (<span style=\"color: #00d7ff; text-decoration-color: #00d7ff\">None</span>, <span style=\"color: #00af00; text-decoration-color: #00af00\">100</span>)            │             <span style=\"color: #00af00; text-decoration-color: #00af00\">0</span> │\n",
       "├─────────────────────────────────┼────────────────────────┼───────────────┤\n",
       "│ dense_1 (<span style=\"color: #0087ff; text-decoration-color: #0087ff\">Dense</span>)                 │ (<span style=\"color: #00d7ff; text-decoration-color: #00d7ff\">None</span>, <span style=\"color: #00af00; text-decoration-color: #00af00\">50</span>)             │         <span style=\"color: #00af00; text-decoration-color: #00af00\">5,050</span> │\n",
       "├─────────────────────────────────┼────────────────────────┼───────────────┤\n",
       "│ activation_1 (<span style=\"color: #0087ff; text-decoration-color: #0087ff\">Activation</span>)       │ (<span style=\"color: #00d7ff; text-decoration-color: #00d7ff\">None</span>, <span style=\"color: #00af00; text-decoration-color: #00af00\">50</span>)             │             <span style=\"color: #00af00; text-decoration-color: #00af00\">0</span> │\n",
       "├─────────────────────────────────┼────────────────────────┼───────────────┤\n",
       "│ dense_2 (<span style=\"color: #0087ff; text-decoration-color: #0087ff\">Dense</span>)                 │ (<span style=\"color: #00d7ff; text-decoration-color: #00d7ff\">None</span>, <span style=\"color: #00af00; text-decoration-color: #00af00\">25</span>)             │         <span style=\"color: #00af00; text-decoration-color: #00af00\">1,275</span> │\n",
       "├─────────────────────────────────┼────────────────────────┼───────────────┤\n",
       "│ activation_2 (<span style=\"color: #0087ff; text-decoration-color: #0087ff\">Activation</span>)       │ (<span style=\"color: #00d7ff; text-decoration-color: #00d7ff\">None</span>, <span style=\"color: #00af00; text-decoration-color: #00af00\">25</span>)             │             <span style=\"color: #00af00; text-decoration-color: #00af00\">0</span> │\n",
       "├─────────────────────────────────┼────────────────────────┼───────────────┤\n",
       "│ dense_3 (<span style=\"color: #0087ff; text-decoration-color: #0087ff\">Dense</span>)                 │ (<span style=\"color: #00d7ff; text-decoration-color: #00d7ff\">None</span>, <span style=\"color: #00af00; text-decoration-color: #00af00\">2</span>)              │            <span style=\"color: #00af00; text-decoration-color: #00af00\">52</span> │\n",
       "├─────────────────────────────────┼────────────────────────┼───────────────┤\n",
       "│ dense_4 (<span style=\"color: #0087ff; text-decoration-color: #0087ff\">Dense</span>)                 │ (<span style=\"color: #00d7ff; text-decoration-color: #00d7ff\">None</span>, <span style=\"color: #00af00; text-decoration-color: #00af00\">25</span>)             │            <span style=\"color: #00af00; text-decoration-color: #00af00\">75</span> │\n",
       "├─────────────────────────────────┼────────────────────────┼───────────────┤\n",
       "│ activation_3 (<span style=\"color: #0087ff; text-decoration-color: #0087ff\">Activation</span>)       │ (<span style=\"color: #00d7ff; text-decoration-color: #00d7ff\">None</span>, <span style=\"color: #00af00; text-decoration-color: #00af00\">25</span>)             │             <span style=\"color: #00af00; text-decoration-color: #00af00\">0</span> │\n",
       "├─────────────────────────────────┼────────────────────────┼───────────────┤\n",
       "│ dense_5 (<span style=\"color: #0087ff; text-decoration-color: #0087ff\">Dense</span>)                 │ (<span style=\"color: #00d7ff; text-decoration-color: #00d7ff\">None</span>, <span style=\"color: #00af00; text-decoration-color: #00af00\">50</span>)             │         <span style=\"color: #00af00; text-decoration-color: #00af00\">1,300</span> │\n",
       "├─────────────────────────────────┼────────────────────────┼───────────────┤\n",
       "│ activation_4 (<span style=\"color: #0087ff; text-decoration-color: #0087ff\">Activation</span>)       │ (<span style=\"color: #00d7ff; text-decoration-color: #00d7ff\">None</span>, <span style=\"color: #00af00; text-decoration-color: #00af00\">50</span>)             │             <span style=\"color: #00af00; text-decoration-color: #00af00\">0</span> │\n",
       "├─────────────────────────────────┼────────────────────────┼───────────────┤\n",
       "│ dense_6 (<span style=\"color: #0087ff; text-decoration-color: #0087ff\">Dense</span>)                 │ (<span style=\"color: #00d7ff; text-decoration-color: #00d7ff\">None</span>, <span style=\"color: #00af00; text-decoration-color: #00af00\">100</span>)            │         <span style=\"color: #00af00; text-decoration-color: #00af00\">5,100</span> │\n",
       "├─────────────────────────────────┼────────────────────────┼───────────────┤\n",
       "│ activation_5 (<span style=\"color: #0087ff; text-decoration-color: #0087ff\">Activation</span>)       │ (<span style=\"color: #00d7ff; text-decoration-color: #00d7ff\">None</span>, <span style=\"color: #00af00; text-decoration-color: #00af00\">100</span>)            │             <span style=\"color: #00af00; text-decoration-color: #00af00\">0</span> │\n",
       "├─────────────────────────────────┼────────────────────────┼───────────────┤\n",
       "│ dense_7 (<span style=\"color: #0087ff; text-decoration-color: #0087ff\">Dense</span>)                 │ (<span style=\"color: #00d7ff; text-decoration-color: #00d7ff\">None</span>, <span style=\"color: #00af00; text-decoration-color: #00af00\">784</span>)            │        <span style=\"color: #00af00; text-decoration-color: #00af00\">79,184</span> │\n",
       "└─────────────────────────────────┴────────────────────────┴───────────────┘\n",
       "</pre>\n"
      ],
      "text/plain": [
       "┏━━━━━━━━━━━━━━━━━━━━━━━━━━━━━━━━━┳━━━━━━━━━━━━━━━━━━━━━━━━┳━━━━━━━━━━━━━━━┓\n",
       "┃\u001b[1m \u001b[0m\u001b[1mLayer (type)                   \u001b[0m\u001b[1m \u001b[0m┃\u001b[1m \u001b[0m\u001b[1mOutput Shape          \u001b[0m\u001b[1m \u001b[0m┃\u001b[1m \u001b[0m\u001b[1m      Param #\u001b[0m\u001b[1m \u001b[0m┃\n",
       "┡━━━━━━━━━━━━━━━━━━━━━━━━━━━━━━━━━╇━━━━━━━━━━━━━━━━━━━━━━━━╇━━━━━━━━━━━━━━━┩\n",
       "│ input_layer (\u001b[38;5;33mInputLayer\u001b[0m)        │ (\u001b[38;5;45mNone\u001b[0m, \u001b[38;5;34m784\u001b[0m)            │             \u001b[38;5;34m0\u001b[0m │\n",
       "├─────────────────────────────────┼────────────────────────┼───────────────┤\n",
       "│ dense (\u001b[38;5;33mDense\u001b[0m)                   │ (\u001b[38;5;45mNone\u001b[0m, \u001b[38;5;34m100\u001b[0m)            │        \u001b[38;5;34m78,500\u001b[0m │\n",
       "├─────────────────────────────────┼────────────────────────┼───────────────┤\n",
       "│ activation (\u001b[38;5;33mActivation\u001b[0m)         │ (\u001b[38;5;45mNone\u001b[0m, \u001b[38;5;34m100\u001b[0m)            │             \u001b[38;5;34m0\u001b[0m │\n",
       "├─────────────────────────────────┼────────────────────────┼───────────────┤\n",
       "│ dense_1 (\u001b[38;5;33mDense\u001b[0m)                 │ (\u001b[38;5;45mNone\u001b[0m, \u001b[38;5;34m50\u001b[0m)             │         \u001b[38;5;34m5,050\u001b[0m │\n",
       "├─────────────────────────────────┼────────────────────────┼───────────────┤\n",
       "│ activation_1 (\u001b[38;5;33mActivation\u001b[0m)       │ (\u001b[38;5;45mNone\u001b[0m, \u001b[38;5;34m50\u001b[0m)             │             \u001b[38;5;34m0\u001b[0m │\n",
       "├─────────────────────────────────┼────────────────────────┼───────────────┤\n",
       "│ dense_2 (\u001b[38;5;33mDense\u001b[0m)                 │ (\u001b[38;5;45mNone\u001b[0m, \u001b[38;5;34m25\u001b[0m)             │         \u001b[38;5;34m1,275\u001b[0m │\n",
       "├─────────────────────────────────┼────────────────────────┼───────────────┤\n",
       "│ activation_2 (\u001b[38;5;33mActivation\u001b[0m)       │ (\u001b[38;5;45mNone\u001b[0m, \u001b[38;5;34m25\u001b[0m)             │             \u001b[38;5;34m0\u001b[0m │\n",
       "├─────────────────────────────────┼────────────────────────┼───────────────┤\n",
       "│ dense_3 (\u001b[38;5;33mDense\u001b[0m)                 │ (\u001b[38;5;45mNone\u001b[0m, \u001b[38;5;34m2\u001b[0m)              │            \u001b[38;5;34m52\u001b[0m │\n",
       "├─────────────────────────────────┼────────────────────────┼───────────────┤\n",
       "│ dense_4 (\u001b[38;5;33mDense\u001b[0m)                 │ (\u001b[38;5;45mNone\u001b[0m, \u001b[38;5;34m25\u001b[0m)             │            \u001b[38;5;34m75\u001b[0m │\n",
       "├─────────────────────────────────┼────────────────────────┼───────────────┤\n",
       "│ activation_3 (\u001b[38;5;33mActivation\u001b[0m)       │ (\u001b[38;5;45mNone\u001b[0m, \u001b[38;5;34m25\u001b[0m)             │             \u001b[38;5;34m0\u001b[0m │\n",
       "├─────────────────────────────────┼────────────────────────┼───────────────┤\n",
       "│ dense_5 (\u001b[38;5;33mDense\u001b[0m)                 │ (\u001b[38;5;45mNone\u001b[0m, \u001b[38;5;34m50\u001b[0m)             │         \u001b[38;5;34m1,300\u001b[0m │\n",
       "├─────────────────────────────────┼────────────────────────┼───────────────┤\n",
       "│ activation_4 (\u001b[38;5;33mActivation\u001b[0m)       │ (\u001b[38;5;45mNone\u001b[0m, \u001b[38;5;34m50\u001b[0m)             │             \u001b[38;5;34m0\u001b[0m │\n",
       "├─────────────────────────────────┼────────────────────────┼───────────────┤\n",
       "│ dense_6 (\u001b[38;5;33mDense\u001b[0m)                 │ (\u001b[38;5;45mNone\u001b[0m, \u001b[38;5;34m100\u001b[0m)            │         \u001b[38;5;34m5,100\u001b[0m │\n",
       "├─────────────────────────────────┼────────────────────────┼───────────────┤\n",
       "│ activation_5 (\u001b[38;5;33mActivation\u001b[0m)       │ (\u001b[38;5;45mNone\u001b[0m, \u001b[38;5;34m100\u001b[0m)            │             \u001b[38;5;34m0\u001b[0m │\n",
       "├─────────────────────────────────┼────────────────────────┼───────────────┤\n",
       "│ dense_7 (\u001b[38;5;33mDense\u001b[0m)                 │ (\u001b[38;5;45mNone\u001b[0m, \u001b[38;5;34m784\u001b[0m)            │        \u001b[38;5;34m79,184\u001b[0m │\n",
       "└─────────────────────────────────┴────────────────────────┴───────────────┘\n"
      ]
     },
     "metadata": {},
     "output_type": "display_data"
    },
    {
     "data": {
      "text/html": [
       "<pre style=\"white-space:pre;overflow-x:auto;line-height:normal;font-family:Menlo,'DejaVu Sans Mono',consolas,'Courier New',monospace\"><span style=\"font-weight: bold\"> Total params: </span><span style=\"color: #00af00; text-decoration-color: #00af00\">170,536</span> (666.16 KB)\n",
       "</pre>\n"
      ],
      "text/plain": [
       "\u001b[1m Total params: \u001b[0m\u001b[38;5;34m170,536\u001b[0m (666.16 KB)\n"
      ]
     },
     "metadata": {},
     "output_type": "display_data"
    },
    {
     "data": {
      "text/html": [
       "<pre style=\"white-space:pre;overflow-x:auto;line-height:normal;font-family:Menlo,'DejaVu Sans Mono',consolas,'Courier New',monospace\"><span style=\"font-weight: bold\"> Trainable params: </span><span style=\"color: #00af00; text-decoration-color: #00af00\">170,536</span> (666.16 KB)\n",
       "</pre>\n"
      ],
      "text/plain": [
       "\u001b[1m Trainable params: \u001b[0m\u001b[38;5;34m170,536\u001b[0m (666.16 KB)\n"
      ]
     },
     "metadata": {},
     "output_type": "display_data"
    },
    {
     "data": {
      "text/html": [
       "<pre style=\"white-space:pre;overflow-x:auto;line-height:normal;font-family:Menlo,'DejaVu Sans Mono',consolas,'Courier New',monospace\"><span style=\"font-weight: bold\"> Non-trainable params: </span><span style=\"color: #00af00; text-decoration-color: #00af00\">0</span> (0.00 B)\n",
       "</pre>\n"
      ],
      "text/plain": [
       "\u001b[1m Non-trainable params: \u001b[0m\u001b[38;5;34m0\u001b[0m (0.00 B)\n"
      ]
     },
     "metadata": {},
     "output_type": "display_data"
    }
   ],
   "source": [
    "# Autoencoder modelini giriş ve çıkış katmanlarıyla oluşturuyoruz\n",
    "# Giriş: 784 boyutlu vektör, Çıkış: yeniden oluşturulmuş 784 boyutlu vektör\n",
    "autoencoder = tensorflow.keras.models.Model(inputs=input_data, outputs=decoded)\n",
    "\n",
    "# Modeli derliyoruz: kayıp fonksiyonu olarak MSE (Mean Squared Error) ve optimizer olarak Adam kullanıyoruz\n",
    "autoencoder.compile(loss=\"mse\", optimizer=\"adam\")\n",
    "\n",
    "# Modelin katman yapısını ve parametre sayısını ekrana yazdırıyoruz\n",
    "autoencoder.summary()"
   ]
  },
  {
   "cell_type": "markdown",
   "id": "e25a3e5e-3dcb-43e1-9cdc-5cc6ddc541ad",
   "metadata": {},
   "source": [
    "Bu kod bloğu ile Autoencoder modeli oluşturuldu ve derlendi. Modelin giriş katmanı 784 boyutlu (28x28) düzleştirilmiş MNIST görüntüsünü alıyor ve çıkış katmanı da aynı boyutta, yeniden oluşturulmuş görüntüyü üretiyor. Kodlayıcı katmanlar veriyi kademeli olarak 100 → 50 → 25 → 2 boyutuna sıkıştırırken, çözücü katmanlar bu sıkıştırılmış temsili tekrar 25 → 50 → 100 → 784 boyutuna genişleterek giriş verisini yeniden oluşturuyor. Kayıp fonksiyonu olarak MSE (Mean Squared Error) kullanılması, modelin giriş ve çıkış arasındaki farkı minimize etmeye çalıştığını gösterir. summary() çıktısı, her katmanın boyutunu ve parametre sayısını göstererek modelin toplam 170,536 öğrenilebilir parametreye sahip olduğunu doğruluyor."
   ]
  },
  {
   "cell_type": "code",
   "execution_count": 6,
   "id": "18dce530-388c-4cea-b47b-69fcdaa7a402",
   "metadata": {},
   "outputs": [
    {
     "name": "stdout",
     "output_type": "stream",
     "text": [
      "Epoch 1/10\n",
      "\u001b[1m938/938\u001b[0m \u001b[32m━━━━━━━━━━━━━━━━━━━━\u001b[0m\u001b[37m\u001b[0m \u001b[1m78s\u001b[0m 12ms/step - loss: 0.0543 - val_loss: 0.0483\n",
      "Epoch 2/10\n",
      "\u001b[1m938/938\u001b[0m \u001b[32m━━━━━━━━━━━━━━━━━━━━\u001b[0m\u001b[37m\u001b[0m \u001b[1m6s\u001b[0m 6ms/step - loss: 0.0466 - val_loss: 0.0452\n",
      "Epoch 3/10\n",
      "\u001b[1m938/938\u001b[0m \u001b[32m━━━━━━━━━━━━━━━━━━━━\u001b[0m\u001b[37m\u001b[0m \u001b[1m6s\u001b[0m 6ms/step - loss: 0.0442 - val_loss: 0.0433\n",
      "Epoch 4/10\n",
      "\u001b[1m938/938\u001b[0m \u001b[32m━━━━━━━━━━━━━━━━━━━━\u001b[0m\u001b[37m\u001b[0m \u001b[1m6s\u001b[0m 7ms/step - loss: 0.0428 - val_loss: 0.0419\n",
      "Epoch 5/10\n",
      "\u001b[1m938/938\u001b[0m \u001b[32m━━━━━━━━━━━━━━━━━━━━\u001b[0m\u001b[37m\u001b[0m \u001b[1m5s\u001b[0m 5ms/step - loss: 0.0419 - val_loss: 0.0415\n",
      "Epoch 6/10\n",
      "\u001b[1m938/938\u001b[0m \u001b[32m━━━━━━━━━━━━━━━━━━━━\u001b[0m\u001b[37m\u001b[0m \u001b[1m7s\u001b[0m 8ms/step - loss: 0.0412 - val_loss: 0.0411\n",
      "Epoch 7/10\n",
      "\u001b[1m938/938\u001b[0m \u001b[32m━━━━━━━━━━━━━━━━━━━━\u001b[0m\u001b[37m\u001b[0m \u001b[1m6s\u001b[0m 6ms/step - loss: 0.0405 - val_loss: 0.0406\n",
      "Epoch 8/10\n",
      "\u001b[1m938/938\u001b[0m \u001b[32m━━━━━━━━━━━━━━━━━━━━\u001b[0m\u001b[37m\u001b[0m \u001b[1m6s\u001b[0m 6ms/step - loss: 0.0401 - val_loss: 0.0399\n",
      "Epoch 9/10\n",
      "\u001b[1m938/938\u001b[0m \u001b[32m━━━━━━━━━━━━━━━━━━━━\u001b[0m\u001b[37m\u001b[0m \u001b[1m7s\u001b[0m 7ms/step - loss: 0.0397 - val_loss: 0.0395\n",
      "Epoch 10/10\n",
      "\u001b[1m938/938\u001b[0m \u001b[32m━━━━━━━━━━━━━━━━━━━━\u001b[0m\u001b[37m\u001b[0m \u001b[1m5s\u001b[0m 6ms/step - loss: 0.0395 - val_loss: 0.0393\n"
     ]
    },
    {
     "data": {
      "text/plain": [
       "<keras.src.callbacks.history.History at 0x1e001aeafd0>"
      ]
     },
     "execution_count": 6,
     "metadata": {},
     "output_type": "execute_result"
    }
   ],
   "source": [
    "# Autoencoder modelini eğitim verisi üzerinde eğitiyoruz\n",
    "# Girdi ve çıktı aynı (train_data), çünkü Autoencoder giriş verisini öğrenip yeniden oluşturmayı amaçlar\n",
    "# epochs=10: eğitim verisi üzerinden model 10 kez güncellenecek\n",
    "# batch_size=64: her adımda 64 örnek kullanılarak ağırlıklar güncellenir\n",
    "autoencoder.fit(\n",
    "    train_data, train_data,\n",
    "    epochs=10,\n",
    "    batch_size=64,\n",
    "    validation_data=(test_data, test_data)  # Her epoch sonunda modelin test verisi üzerindeki performansını kontrol ediyoruz\n",
    ")"
   ]
  },
  {
   "cell_type": "markdown",
   "id": "501b4e87-6e90-46de-9570-1f18245949c8",
   "metadata": {},
   "source": [
    "Autoencoder modeli 10 epoch boyunca eğitim verisi üzerinde eğitildi. Eğitim kaybı (loss) her epoch ile birlikte düzenli olarak azaldı ve son epoch’ta yaklaşık 0.0395 seviyesine ulaştı. Doğrulama kaybı (val_loss) da benzer şekilde azalarak 0.0393 civarında sabitlendi. Bu sonuçlar, modelin giriş verisini giderek daha doğru şekilde yeniden öğrenip oluşturduğunu gösteriyor. Eğitim ve doğrulama kayıplarının birbirine yakın olması, modelin overfitting yapmadığını ve test verisine karşı da iyi genelleme yaptığını işaret ediyor. Genel olarak model, MNIST verisini kodlayıcı ve çözücü katmanlar aracılığıyla başarılı bir şekilde öğrenmiş ve yeniden üretmeyi başarmıştır."
   ]
  },
  {
   "cell_type": "code",
   "execution_count": 7,
   "id": "d3c53cb1-f020-49b7-bd7a-b5488d537625",
   "metadata": {},
   "outputs": [
    {
     "data": {
      "image/png": "[encoded data removed]",
      "text/plain": [
       "<Figure size 640x480 with 5 Axes>"
      ]
     },
     "metadata": {},
     "output_type": "display_data"
    },
    {
     "name": "stdout",
     "output_type": "stream",
     "text": [
      "\u001b[1m1/1\u001b[0m \u001b[32m━━━━━━━━━━━━━━━━━━━━\u001b[0m\u001b[37m\u001b[0m \u001b[1m0s\u001b[0m 394ms/step\n",
      "\u001b[1m1/1\u001b[0m \u001b[32m━━━━━━━━━━━━━━━━━━━━\u001b[0m\u001b[37m\u001b[0m \u001b[1m0s\u001b[0m 74ms/step\n",
      "\u001b[1m1/1\u001b[0m \u001b[32m━━━━━━━━━━━━━━━━━━━━\u001b[0m\u001b[37m\u001b[0m \u001b[1m0s\u001b[0m 114ms/step\n",
      "\u001b[1m1/1\u001b[0m \u001b[32m━━━━━━━━━━━━━━━━━━━━\u001b[0m\u001b[37m\u001b[0m \u001b[1m0s\u001b[0m 52ms/step\n",
      "\u001b[1m1/1\u001b[0m \u001b[32m━━━━━━━━━━━━━━━━━━━━\u001b[0m\u001b[37m\u001b[0m \u001b[1m0s\u001b[0m 74ms/step\n"
     ]
    },
    {
     "data": {
      "image/png": "[encoded data removed]",
      "text/plain": [
       "<Figure size 640x480 with 5 Axes>"
      ]
     },
     "metadata": {},
     "output_type": "display_data"
    }
   ],
   "source": [
    "# Test veri kümesinden 5 örnek görüntüyü orijinal hâliyle gösteriyoruz\n",
    "for i in range(5):\n",
    "    plt.subplot(550 + 1 + i)\n",
    "    plt.imshow(testX[i], cmap=\"gray\")\n",
    "plt.show()\n",
    "\n",
    "# Aynı 5 örneği Autoencoder ile yeniden oluşturup görselleştiriyoruz\n",
    "for i in range(5):\n",
    "    plt.subplot(550 + 1 + i)\n",
    "    output = autoencoder.predict(np.array([test_data[i]]))\n",
    "    op_image = np.reshape(output[0]*255, (28,28))\n",
    "    plt.imshow(op_image, cmap=\"gray\")\n",
    "plt.show()"
   ]
  },
  {
   "cell_type": "markdown",
   "id": "0cf3ea58-880a-44b5-a996-c819a02cf631",
   "metadata": {},
   "source": [
    "Test veri kümesinde modelin performansını görselleştirerek değerlendirmek için orijinal ve yeniden oluşturulmuş görseller karşılaştırılır. İlk olarak test setinden bazı örnekler gösterilir; ardından aynı örnekler Autoencoder tarafından yeniden oluşturularak görselleştirilir. Bu karşılaştırma, modelin giriş verisini ne kadar başarılı şekilde öğrenip yeniden üretebildiğini gözlemlememizi sağlar."
   ]
  }
 ],
 "metadata": {
  "kernelspec": {
   "display_name": "Python [conda env:base] *",
   "language": "python",
   "name": "conda-base-py"
  },
  "language_info": {
   "codemirror_mode": {
    "name": "ipython",
    "version": 3
   },
   "file_extension": ".py",
   "mimetype": "text/x-python",
   "name": "python",
   "nbconvert_exporter": "python",
   "pygments_lexer": "ipython3",
   "version": "3.11.7"
  }
 },
 "nbformat": 4,
 "nbformat_minor": 5
}
