{
 "cells": [
  {
   "cell_type": "code",
   "execution_count": 1,
   "id": "edbcd50f-a0b3-48e5-8109-b0409e4cef19",
   "metadata": {},
   "outputs": [
    {
     "name": "stdout",
     "output_type": "stream",
     "text": [
      "[1, 14, 22, 16, 43, 530, 973, 1622, 1385, 65, 458, 4468, 66, 3941, 4, 173, 36, 256, 5, 25, 100, 43, 838, 112, 50, 670, 2, 9, 35, 480, 284, 5, 150, 4, 172, 112, 167, 2, 336, 385, 39, 4, 172, 4536, 1111, 17, 546, 38, 13, 447, 4, 192, 50, 16, 6, 147, 2025, 19, 14, 22, 4, 1920, 4613, 469, 4, 22, 71, 87, 12, 16, 43, 530, 38, 76, 15, 13, 1247, 4, 22, 17, 515, 17, 12, 16, 626, 18, 2, 5, 62, 386, 12, 8, 316, 8, 106, 5, 4, 2223, 2, 16, 480, 66, 3785, 33, 4, 130, 12, 16, 38, 619, 5, 25, 124, 51, 36, 135, 48, 25, 1415, 33, 6, 22, 12, 215, 28, 77, 52, 5, 14, 407, 16, 82, 2, 8, 4, 107, 117, 2, 15, 256, 4, 2, 7, 3766, 5, 723, 36, 71, 43, 530, 476, 26, 400, 317, 46, 7, 4, 2, 1029, 13, 104, 88, 4, 381, 15, 297, 98, 32, 2071, 56, 26, 141, 6, 194, 2, 18, 4, 226, 22, 21, 134, 476, 26, 480, 5, 144, 30, 2, 18, 51, 36, 28, 224, 92, 25, 104, 4, 226, 65, 16, 38, 1334, 88, 12, 16, 283, 5, 16, 4472, 113, 103, 32, 15, 16, 2, 19, 178, 32]\n"
     ]
    }
   ],
   "source": [
    "# RNN, LSTM, GRU ve diğer katmanları import ediyoruz\n",
    "from tensorflow.keras.layers import SimpleRNN, LSTM, GRU, Bidirectional, Dense, Embedding\n",
    "\n",
    "# IMDB veri setini import ediyoruz\n",
    "from tensorflow.keras.datasets import imdb\n",
    "from tensorflow.keras.models import Sequential\n",
    "import numpy as np\n",
    "\n",
    "# Kelime dağarcığı boyutunu belirliyoruz\n",
    "vocab_size = 5000  # Sadece en sık kullanılan 5000 kelimeyi dikkate alacağız\n",
    "\n",
    "# IMDB veri setini yükleyip eğitim ve test verisine ayırıyoruz\n",
    "(x_train, y_train), (x_test, y_test) = imdb.load_data(num_words=vocab_size)\n",
    "\n",
    "# Eğitim verisindeki ilk örneği yazdırıyoruz (kelimeler indekslerle temsil ediliyor)\n",
    "print(x_train[0])"
   ]
  },
  {
   "cell_type": "markdown",
   "id": "3ef769e8-383a-44d7-a443-5a53a09db5da",
   "metadata": {},
   "source": [
    "Bu kod bloğu ile IMDB film yorumları veri seti yükleniyor ve duygu analizi için hazırlanıyor. Veri setindeki yorumlar, kelimeler yerine her kelimenin indeks değerleri ile temsil ediliyor. Kelime dağarcığı boyutu 5000 olarak belirlenmiş, yani en sık kullanılan 5000 kelime dikkate alınacak; geri kalan kelimeler görmezden gelinecek. x_train ve x_test dizileri, yorumlardaki kelime indekslerini içerirken, y_train ve y_test dizileri her yorumun pozitif (1) veya negatif (0) olduğunu gösteriyor."
   ]
  },
  {
   "cell_type": "code",
   "execution_count": 2,
   "id": "43e4d76c-98d4-4764-82bb-563fce931542",
   "metadata": {},
   "outputs": [
    {
     "name": "stdout",
     "output_type": "stream",
     "text": [
      "['the', 'as', 'you', 'with', 'out', 'themselves', 'powerful', 'lets', 'loves', 'their', 'becomes', 'reaching', 'had', 'journalist', 'of', 'lot', 'from', 'anyone', 'to', 'have', 'after', 'out', 'atmosphere', 'never', 'more', 'room', 'and', 'it', 'so', 'heart', 'shows', 'to', 'years', 'of', 'every', 'never', 'going', 'and', 'help', 'moments', 'or', 'of', 'every', 'chest', 'visual', 'movie', 'except', 'her', 'was', 'several', 'of', 'enough', 'more', 'with', 'is', 'now', 'current', 'film', 'as', 'you', 'of', 'mine', 'potentially', 'unfortunately', 'of', 'you', 'than', 'him', 'that', 'with', 'out', 'themselves', 'her', 'get', 'for', 'was', 'camp', 'of', 'you', 'movie', 'sometimes', 'movie', 'that', 'with', 'scary', 'but', 'and', 'to', 'story', 'wonderful', 'that', 'in', 'seeing', 'in', 'character', 'to', 'of', '70s', 'and', 'with', 'heart', 'had', 'shadows', 'they', 'of', 'here', 'that', 'with', 'her', 'serious', 'to', 'have', 'does', 'when', 'from', 'why', 'what', 'have', 'critics', 'they', 'is', 'you', 'that', \"isn't\", 'one', 'will', 'very', 'to', 'as', 'itself', 'with', 'other', 'and', 'in', 'of', 'seen', 'over', 'and', 'for', 'anyone', 'of', 'and', 'br', \"show's\", 'to', 'whether', 'from', 'than', 'out', 'themselves', 'history', 'he', 'name', 'half', 'some', 'br', 'of', 'and', 'odd', 'was', 'two', 'most', 'of', 'mean', 'for', '1', 'any', 'an', 'boat', 'she', 'he', 'should', 'is', 'thought', 'and', 'but', 'of', 'script', 'you', 'not', 'while', 'history', 'he', 'heart', 'to', 'real', 'at', 'and', 'but', 'when', 'from', 'one', 'bit', 'then', 'have', 'two', 'of', 'script', 'their', 'with', 'her', 'nobody', 'most', 'that', 'with', \"wasn't\", 'to', 'with', 'armed', 'acting', 'watch', 'an', 'for', 'with', 'and', 'film', 'want', 'an']\n"
     ]
    }
   ],
   "source": [
    "# IMDB veri setindeki kelimelerin indekslerini ve kelimeleri alıyoruz\n",
    "word_idx = imdb.get_word_index()\n",
    "\n",
    "# Sözlüğün anahtar ve değerlerini ters çeviriyoruz (indeks → kelime)\n",
    "word_idx = {i: word for word, i in word_idx.items()}\n",
    "\n",
    "# Eğitim verisindeki ilk yorumun kelimelerini indeksler yerine kelime olarak yazdırıyoruz\n",
    "print([word_idx[i] for i in x_train[0]])"
   ]
  },
  {
   "cell_type": "markdown",
   "id": "6927ac2d-e1bc-46b6-86d4-84467a6b85c5",
   "metadata": {},
   "source": [
    "Bu kod bloğu, eğitim verisindeki yorumların hangi kelimelerden oluştuğunu anlamamıza yarıyor. Başlangıçta her kelime sadece bir indeks ile temsil ediliyor. get_word_index() fonksiyonu ile indeks-kelime ilişkisini alıyor ve ardından bu ilişkiyi ters çevirerek indeksleri gerçek kelimelerle eşleştiriyoruz. Böylece x_train içindeki ilk yorum, kelime indeksleri yerine okunabilir kelimeler hâline geliyor"
   ]
  },
  {
   "cell_type": "code",
   "execution_count": 3,
   "id": "484be0a1-4393-4053-9dc3-53a3332aef44",
   "metadata": {},
   "outputs": [
    {
     "name": "stdout",
     "output_type": "stream",
     "text": [
      "Max length of a review: 2697\n",
      "Min length of a review: 70\n"
     ]
    }
   ],
   "source": [
    "# Eğitim ve test veri setindeki yorumların maksimum ve minimum uzunluklarını yazdırıyoruz\n",
    "print(\"Max length of a review:\", len(max((x_train + x_test), key=len)))\n",
    "print(\"Min length of a review:\", len(min((x_train + x_test), key=len)))"
   ]
  },
  {
   "cell_type": "markdown",
   "id": "8b5ac48b-d699-4934-bc1a-3aa455824e7e",
   "metadata": {},
   "source": [
    "Bu kod bloğu, veri setindeki yorumların uzunluklarını inceliyor. max ve min fonksiyonları kullanılarak tüm eğitim ve test yorumları arasında en uzun ve en kısa yorumların kaç kelimeden oluştuğu hesaplanıyor. Bu bilgi, modelin giriş verilerini sabit bir uzunlukta hazırlamak (padding/truncating) için önemlidir. Uzunluk farkları çok fazla ise, kısa yorumlar sıfır ile doldurulabilir veya uzun yorumlar belirli bir sınırda kesilebilir. Böylece RNN/GRU/LSTM modelleri için tutarlı bir giriş boyutu sağlanmış olur."
   ]
  },
  {
   "cell_type": "code",
   "execution_count": 4,
   "id": "dd685fb9-a06b-4e40-88d8-8a1ad0ef5cdb",
   "metadata": {},
   "outputs": [],
   "source": [
    "# Sabit uzunlukta girdi dizileri oluşturmak için Keras sequence modülünü kullanıyoruz\n",
    "from tensorflow.keras.preprocessing import sequence\n",
    "\n",
    "# Tüm yorumları maksimum 400 kelimeye kadar kesiyoruz veya eksikse sıfır ile dolduruyoruz\n",
    "max_words = 400\n",
    "x_train = sequence.pad_sequences(x_train, maxlen=max_words)\n",
    "x_test = sequence.pad_sequences(x_test, maxlen=max_words)\n",
    "\n",
    "# Eğitim sırasında modelin performansını değerlendirmek için küçük bir doğrulama seti ayırıyoruz\n",
    "x_valid, y_valid = x_train[:64], y_train[:64]       # İlk 64 örnek doğrulama seti\n",
    "x_train_, y_train_ = x_train[64:], y_train[64:]     # Kalan örnekler eğitim seti"
   ]
  },
  {
   "cell_type": "code",
   "execution_count": 6,
   "id": "949ec5ff-78b1-4b81-aaf5-a9db74d6979e",
   "metadata": {},
   "outputs": [
    {
     "data": {
      "text/html": [
       "<pre style=\"white-space:pre;overflow-x:auto;line-height:normal;font-family:Menlo,'DejaVu Sans Mono',consolas,'Courier New',monospace\"><span style=\"font-weight: bold\">Model: \"Simple_RNN\"</span>\n",
       "</pre>\n"
      ],
      "text/plain": [
       "\u001b[1mModel: \"Simple_RNN\"\u001b[0m\n"
      ]
     },
     "metadata": {},
     "output_type": "display_data"
    },
    {
     "data": {
      "text/html": [
       "<pre style=\"white-space:pre;overflow-x:auto;line-height:normal;font-family:Menlo,'DejaVu Sans Mono',consolas,'Courier New',monospace\">┏━━━━━━━━━━━━━━━━━━━━━━━━━━━━━━━━━┳━━━━━━━━━━━━━━━━━━━━━━━━┳━━━━━━━━━━━━━━━┓\n",
       "┃<span style=\"font-weight: bold\"> Layer (type)                    </span>┃<span style=\"font-weight: bold\"> Output Shape           </span>┃<span style=\"font-weight: bold\">       Param # </span>┃\n",
       "┡━━━━━━━━━━━━━━━━━━━━━━━━━━━━━━━━━╇━━━━━━━━━━━━━━━━━━━━━━━━╇━━━━━━━━━━━━━━━┩\n",
       "│ embedding_1 (<span style=\"color: #0087ff; text-decoration-color: #0087ff\">Embedding</span>)         │ (<span style=\"color: #00d7ff; text-decoration-color: #00d7ff\">None</span>, <span style=\"color: #00af00; text-decoration-color: #00af00\">400</span>, <span style=\"color: #00af00; text-decoration-color: #00af00\">32</span>)        │       <span style=\"color: #00af00; text-decoration-color: #00af00\">160,000</span> │\n",
       "├─────────────────────────────────┼────────────────────────┼───────────────┤\n",
       "│ simple_rnn_1 (<span style=\"color: #0087ff; text-decoration-color: #0087ff\">SimpleRNN</span>)        │ (<span style=\"color: #00d7ff; text-decoration-color: #00d7ff\">None</span>, <span style=\"color: #00af00; text-decoration-color: #00af00\">128</span>)            │        <span style=\"color: #00af00; text-decoration-color: #00af00\">20,608</span> │\n",
       "├─────────────────────────────────┼────────────────────────┼───────────────┤\n",
       "│ dense_1 (<span style=\"color: #0087ff; text-decoration-color: #0087ff\">Dense</span>)                 │ (<span style=\"color: #00d7ff; text-decoration-color: #00d7ff\">None</span>, <span style=\"color: #00af00; text-decoration-color: #00af00\">1</span>)              │           <span style=\"color: #00af00; text-decoration-color: #00af00\">129</span> │\n",
       "└─────────────────────────────────┴────────────────────────┴───────────────┘\n",
       "</pre>\n"
      ],
      "text/plain": [
       "┏━━━━━━━━━━━━━━━━━━━━━━━━━━━━━━━━━┳━━━━━━━━━━━━━━━━━━━━━━━━┳━━━━━━━━━━━━━━━┓\n",
       "┃\u001b[1m \u001b[0m\u001b[1mLayer (type)                   \u001b[0m\u001b[1m \u001b[0m┃\u001b[1m \u001b[0m\u001b[1mOutput Shape          \u001b[0m\u001b[1m \u001b[0m┃\u001b[1m \u001b[0m\u001b[1m      Param #\u001b[0m\u001b[1m \u001b[0m┃\n",
       "┡━━━━━━━━━━━━━━━━━━━━━━━━━━━━━━━━━╇━━━━━━━━━━━━━━━━━━━━━━━━╇━━━━━━━━━━━━━━━┩\n",
       "│ embedding_1 (\u001b[38;5;33mEmbedding\u001b[0m)         │ (\u001b[38;5;45mNone\u001b[0m, \u001b[38;5;34m400\u001b[0m, \u001b[38;5;34m32\u001b[0m)        │       \u001b[38;5;34m160,000\u001b[0m │\n",
       "├─────────────────────────────────┼────────────────────────┼───────────────┤\n",
       "│ simple_rnn_1 (\u001b[38;5;33mSimpleRNN\u001b[0m)        │ (\u001b[38;5;45mNone\u001b[0m, \u001b[38;5;34m128\u001b[0m)            │        \u001b[38;5;34m20,608\u001b[0m │\n",
       "├─────────────────────────────────┼────────────────────────┼───────────────┤\n",
       "│ dense_1 (\u001b[38;5;33mDense\u001b[0m)                 │ (\u001b[38;5;45mNone\u001b[0m, \u001b[38;5;34m1\u001b[0m)              │           \u001b[38;5;34m129\u001b[0m │\n",
       "└─────────────────────────────────┴────────────────────────┴───────────────┘\n"
      ]
     },
     "metadata": {},
     "output_type": "display_data"
    },
    {
     "data": {
      "text/html": [
       "<pre style=\"white-space:pre;overflow-x:auto;line-height:normal;font-family:Menlo,'DejaVu Sans Mono',consolas,'Courier New',monospace\"><span style=\"font-weight: bold\"> Total params: </span><span style=\"color: #00af00; text-decoration-color: #00af00\">180,737</span> (706.00 KB)\n",
       "</pre>\n"
      ],
      "text/plain": [
       "\u001b[1m Total params: \u001b[0m\u001b[38;5;34m180,737\u001b[0m (706.00 KB)\n"
      ]
     },
     "metadata": {},
     "output_type": "display_data"
    },
    {
     "data": {
      "text/html": [
       "<pre style=\"white-space:pre;overflow-x:auto;line-height:normal;font-family:Menlo,'DejaVu Sans Mono',consolas,'Courier New',monospace\"><span style=\"font-weight: bold\"> Trainable params: </span><span style=\"color: #00af00; text-decoration-color: #00af00\">180,737</span> (706.00 KB)\n",
       "</pre>\n"
      ],
      "text/plain": [
       "\u001b[1m Trainable params: \u001b[0m\u001b[38;5;34m180,737\u001b[0m (706.00 KB)\n"
      ]
     },
     "metadata": {},
     "output_type": "display_data"
    },
    {
     "data": {
      "text/html": [
       "<pre style=\"white-space:pre;overflow-x:auto;line-height:normal;font-family:Menlo,'DejaVu Sans Mono',consolas,'Courier New',monospace\"><span style=\"font-weight: bold\"> Non-trainable params: </span><span style=\"color: #00af00; text-decoration-color: #00af00\">0</span> (0.00 B)\n",
       "</pre>\n"
      ],
      "text/plain": [
       "\u001b[1m Non-trainable params: \u001b[0m\u001b[38;5;34m0\u001b[0m (0.00 B)\n"
      ]
     },
     "metadata": {},
     "output_type": "display_data"
    },
    {
     "name": "stdout",
     "output_type": "stream",
     "text": [
      "None\n"
     ]
    }
   ],
   "source": [
    "from tensorflow.keras.models import Sequential\n",
    "from tensorflow.keras.layers import Embedding, SimpleRNN, Dense\n",
    "\n",
    "# Her kelimenin embedding (yerleştirme) boyutu\n",
    "embd_len = 32  \n",
    "\n",
    "RNN_model = Sequential(name=\"Simple_RNN\")\n",
    "RNN_model.add(Embedding(input_dim=vocab_size, \n",
    "                        output_dim=embd_len))  # input_length kaldırıldı\n",
    "RNN_model.add(SimpleRNN(128, activation='tanh'))\n",
    "RNN_model.add(Dense(1, activation='sigmoid'))\n",
    "\n",
    "# Modeli derle\n",
    "RNN_model.compile(loss=\"binary_crossentropy\", optimizer=\"adam\", metrics=[\"accuracy\"])\n",
    "\n",
    "# Modeli build et (girdi boyutu burada belirtiliyor)\n",
    "RNN_model.build(input_shape=(None, max_words))  \n",
    "\n",
    "# Özeti yazdır\n",
    "print(RNN_model.summary())"
   ]
  },
  {
   "cell_type": "markdown",
   "id": "229760cc-9a5a-44c5-ba35-a232d3a58c0d",
   "metadata": {},
   "source": [
    "Bu kod bloğu ile oluşturulan model özetinde, kullanılan katmanların türü, çıkış boyutları ve parametre sayıları görülmektedir. İlk katman olan Embedding, her kelimeyi 32 boyutlu bir vektörle temsil ederek sözcükleri daha anlamlı bir şekilde ifade eder. Ardından gelen SimpleRNN katmanı, 128 nöronla kelime sırasındaki bağımlılıkları yakalar ve metnin duygusunu çıkarmak için zaman boyutundaki bilgileri işler. Son olarak Dense katmanı, sigmoid aktivasyonu sayesinde ikili sınıflandırma yapar ve yorumların pozitif ya da negatif olarak etiketlenmesini sağlar. Toplam 180,737 parametrenin tamamı eğitilebilir olup, bu da modelin öğrenme kapasitesini göstermektedir. Bu yapı sayesinde model, kelimeler arasındaki bağlamı dikkate alarak duygu analizi yapabilecek şekilde hazırlanmıştır."
   ]
  },
  {
   "cell_type": "code",
   "execution_count": 7,
   "id": "b75c83b8-65b9-41e3-9639-ba0f045649ba",
   "metadata": {},
   "outputs": [
    {
     "name": "stdout",
     "output_type": "stream",
     "text": [
      "Epoch 1/5\n",
      "\u001b[1m390/390\u001b[0m \u001b[32m━━━━━━━━━━━━━━━━━━━━\u001b[0m\u001b[37m\u001b[0m \u001b[1m61s\u001b[0m 149ms/step - accuracy: 0.5985 - loss: 0.6416 - val_accuracy: 0.7656 - val_loss: 0.5441\n",
      "Epoch 2/5\n",
      "\u001b[1m390/390\u001b[0m \u001b[32m━━━━━━━━━━━━━━━━━━━━\u001b[0m\u001b[37m\u001b[0m \u001b[1m52s\u001b[0m 132ms/step - accuracy: 0.7048 - loss: 0.5631 - val_accuracy: 0.6719 - val_loss: 0.6466\n",
      "Epoch 3/5\n",
      "\u001b[1m390/390\u001b[0m \u001b[32m━━━━━━━━━━━━━━━━━━━━\u001b[0m\u001b[37m\u001b[0m \u001b[1m44s\u001b[0m 113ms/step - accuracy: 0.7808 - loss: 0.4693 - val_accuracy: 0.8438 - val_loss: 0.4316\n",
      "Epoch 4/5\n",
      "\u001b[1m390/390\u001b[0m \u001b[32m━━━━━━━━━━━━━━━━━━━━\u001b[0m\u001b[37m\u001b[0m \u001b[1m50s\u001b[0m 128ms/step - accuracy: 0.7998 - loss: 0.4359 - val_accuracy: 0.8438 - val_loss: 0.4417\n",
      "Epoch 5/5\n",
      "\u001b[1m390/390\u001b[0m \u001b[32m━━━━━━━━━━━━━━━━━━━━\u001b[0m\u001b[37m\u001b[0m \u001b[1m59s\u001b[0m 151ms/step - accuracy: 0.8127 - loss: 0.4201 - val_accuracy: 0.8281 - val_loss: 0.4508\n",
      "\n",
      "Simple_RNN Score---> [0.4215129315853119, 0.8198400139808655]\n"
     ]
    }
   ],
   "source": [
    "#Modelin eğitimi\n",
    "history=RNN_model.fit(x_train_,y_train_,batch_size=64,epochs=5,verbose=1,validation_data=(x_valid,y_valid))\n",
    "#Sonuçların yazdırılması\n",
    "print()\n",
    "print(\"Simple_RNN Score--->\",RNN_model.evaluate(x_test,y_test,verbose=0))"
   ]
  },
  {
   "cell_type": "markdown",
   "id": "f23f24d7-1b41-4a20-b638-be4a9f4a2c7f",
   "metadata": {},
   "source": [
    "Bu kod bloğunda model, IMDb duygu analizi veri seti üzerinde 5 epoch boyunca eğitilmiştir. Eğitim sürecinde doğruluk (accuracy) değerinin her epoch ile birlikte arttığı, kayıp (loss) değerinin ise azaldığı görülmektedir. Bu durum, modelin eğitim verisini giderek daha iyi öğrendiğini göstermektedir.\n",
    "\n",
    "Doğrulama sonuçlarına bakıldığında, val_accuracy değerinin 3. epoch itibarıyla %84 civarında sabitlendiği, val_loss değerinin ise 3. epoch sonrası küçük dalgalanmalar gösterdiği gözlemlenmektedir. Bu, modelin doğrulama verisi üzerinde makul bir genelleme yapabildiğini ancak aşırı öğrenmeye (overfitting) eğilim gösterebileceğini işaret eder.\n",
    "\n",
    "Eğitim tamamlandıktan sonra test verisi üzerinde yapılan değerlendirmede %81.9 doğruluk elde edilmiştir. Bu oran, Simple RNN modelinin duygu analizi görevinde başarılı bir performans sergileyebildiğini ortaya koymaktadır."
   ]
  },
  {
   "cell_type": "code",
   "execution_count": 8,
   "id": "aa8600a5-276f-4f3c-be03-67979a154ed9",
   "metadata": {},
   "outputs": [
    {
     "data": {
      "text/html": [
       "<pre style=\"white-space:pre;overflow-x:auto;line-height:normal;font-family:Menlo,'DejaVu Sans Mono',consolas,'Courier New',monospace\"><span style=\"font-weight: bold\">Model: \"GRU_Model\"</span>\n",
       "</pre>\n"
      ],
      "text/plain": [
       "\u001b[1mModel: \"GRU_Model\"\u001b[0m\n"
      ]
     },
     "metadata": {},
     "output_type": "display_data"
    },
    {
     "data": {
      "text/html": [
       "<pre style=\"white-space:pre;overflow-x:auto;line-height:normal;font-family:Menlo,'DejaVu Sans Mono',consolas,'Courier New',monospace\">┏━━━━━━━━━━━━━━━━━━━━━━━━━━━━━━━━━┳━━━━━━━━━━━━━━━━━━━━━━━━┳━━━━━━━━━━━━━━━┓\n",
       "┃<span style=\"font-weight: bold\"> Layer (type)                    </span>┃<span style=\"font-weight: bold\"> Output Shape           </span>┃<span style=\"font-weight: bold\">       Param # </span>┃\n",
       "┡━━━━━━━━━━━━━━━━━━━━━━━━━━━━━━━━━╇━━━━━━━━━━━━━━━━━━━━━━━━╇━━━━━━━━━━━━━━━┩\n",
       "│ embedding_2 (<span style=\"color: #0087ff; text-decoration-color: #0087ff\">Embedding</span>)         │ (<span style=\"color: #00d7ff; text-decoration-color: #00d7ff\">None</span>, <span style=\"color: #00af00; text-decoration-color: #00af00\">400</span>, <span style=\"color: #00af00; text-decoration-color: #00af00\">32</span>)        │       <span style=\"color: #00af00; text-decoration-color: #00af00\">160,000</span> │\n",
       "├─────────────────────────────────┼────────────────────────┼───────────────┤\n",
       "│ gru (<span style=\"color: #0087ff; text-decoration-color: #0087ff\">GRU</span>)                       │ (<span style=\"color: #00d7ff; text-decoration-color: #00d7ff\">None</span>, <span style=\"color: #00af00; text-decoration-color: #00af00\">128</span>)            │        <span style=\"color: #00af00; text-decoration-color: #00af00\">62,208</span> │\n",
       "├─────────────────────────────────┼────────────────────────┼───────────────┤\n",
       "│ dense_2 (<span style=\"color: #0087ff; text-decoration-color: #0087ff\">Dense</span>)                 │ (<span style=\"color: #00d7ff; text-decoration-color: #00d7ff\">None</span>, <span style=\"color: #00af00; text-decoration-color: #00af00\">1</span>)              │           <span style=\"color: #00af00; text-decoration-color: #00af00\">129</span> │\n",
       "└─────────────────────────────────┴────────────────────────┴───────────────┘\n",
       "</pre>\n"
      ],
      "text/plain": [
       "┏━━━━━━━━━━━━━━━━━━━━━━━━━━━━━━━━━┳━━━━━━━━━━━━━━━━━━━━━━━━┳━━━━━━━━━━━━━━━┓\n",
       "┃\u001b[1m \u001b[0m\u001b[1mLayer (type)                   \u001b[0m\u001b[1m \u001b[0m┃\u001b[1m \u001b[0m\u001b[1mOutput Shape          \u001b[0m\u001b[1m \u001b[0m┃\u001b[1m \u001b[0m\u001b[1m      Param #\u001b[0m\u001b[1m \u001b[0m┃\n",
       "┡━━━━━━━━━━━━━━━━━━━━━━━━━━━━━━━━━╇━━━━━━━━━━━━━━━━━━━━━━━━╇━━━━━━━━━━━━━━━┩\n",
       "│ embedding_2 (\u001b[38;5;33mEmbedding\u001b[0m)         │ (\u001b[38;5;45mNone\u001b[0m, \u001b[38;5;34m400\u001b[0m, \u001b[38;5;34m32\u001b[0m)        │       \u001b[38;5;34m160,000\u001b[0m │\n",
       "├─────────────────────────────────┼────────────────────────┼───────────────┤\n",
       "│ gru (\u001b[38;5;33mGRU\u001b[0m)                       │ (\u001b[38;5;45mNone\u001b[0m, \u001b[38;5;34m128\u001b[0m)            │        \u001b[38;5;34m62,208\u001b[0m │\n",
       "├─────────────────────────────────┼────────────────────────┼───────────────┤\n",
       "│ dense_2 (\u001b[38;5;33mDense\u001b[0m)                 │ (\u001b[38;5;45mNone\u001b[0m, \u001b[38;5;34m1\u001b[0m)              │           \u001b[38;5;34m129\u001b[0m │\n",
       "└─────────────────────────────────┴────────────────────────┴───────────────┘\n"
      ]
     },
     "metadata": {},
     "output_type": "display_data"
    },
    {
     "data": {
      "text/html": [
       "<pre style=\"white-space:pre;overflow-x:auto;line-height:normal;font-family:Menlo,'DejaVu Sans Mono',consolas,'Courier New',monospace\"><span style=\"font-weight: bold\"> Total params: </span><span style=\"color: #00af00; text-decoration-color: #00af00\">222,337</span> (868.50 KB)\n",
       "</pre>\n"
      ],
      "text/plain": [
       "\u001b[1m Total params: \u001b[0m\u001b[38;5;34m222,337\u001b[0m (868.50 KB)\n"
      ]
     },
     "metadata": {},
     "output_type": "display_data"
    },
    {
     "data": {
      "text/html": [
       "<pre style=\"white-space:pre;overflow-x:auto;line-height:normal;font-family:Menlo,'DejaVu Sans Mono',consolas,'Courier New',monospace\"><span style=\"font-weight: bold\"> Trainable params: </span><span style=\"color: #00af00; text-decoration-color: #00af00\">222,337</span> (868.50 KB)\n",
       "</pre>\n"
      ],
      "text/plain": [
       "\u001b[1m Trainable params: \u001b[0m\u001b[38;5;34m222,337\u001b[0m (868.50 KB)\n"
      ]
     },
     "metadata": {},
     "output_type": "display_data"
    },
    {
     "data": {
      "text/html": [
       "<pre style=\"white-space:pre;overflow-x:auto;line-height:normal;font-family:Menlo,'DejaVu Sans Mono',consolas,'Courier New',monospace\"><span style=\"font-weight: bold\"> Non-trainable params: </span><span style=\"color: #00af00; text-decoration-color: #00af00\">0</span> (0.00 B)\n",
       "</pre>\n"
      ],
      "text/plain": [
       "\u001b[1m Non-trainable params: \u001b[0m\u001b[38;5;34m0\u001b[0m (0.00 B)\n"
      ]
     },
     "metadata": {},
     "output_type": "display_data"
    },
    {
     "name": "stdout",
     "output_type": "stream",
     "text": [
      "None\n",
      "Epoch 1/5\n",
      "\u001b[1m390/390\u001b[0m \u001b[32m━━━━━━━━━━━━━━━━━━━━\u001b[0m\u001b[37m\u001b[0m \u001b[1m445s\u001b[0m 943ms/step - accuracy: 0.7194 - loss: 0.5305 - val_accuracy: 0.8594 - val_loss: 0.3682\n",
      "Epoch 2/5\n",
      "\u001b[1m390/390\u001b[0m \u001b[32m━━━━━━━━━━━━━━━━━━━━\u001b[0m\u001b[37m\u001b[0m \u001b[1m380s\u001b[0m 973ms/step - accuracy: 0.8045 - loss: 0.4561 - val_accuracy: 0.8125 - val_loss: 0.5780\n",
      "Epoch 3/5\n",
      "\u001b[1m390/390\u001b[0m \u001b[32m━━━━━━━━━━━━━━━━━━━━\u001b[0m\u001b[37m\u001b[0m \u001b[1m375s\u001b[0m 961ms/step - accuracy: 0.8031 - loss: 0.4504 - val_accuracy: 0.9062 - val_loss: 0.2034\n",
      "Epoch 4/5\n",
      "\u001b[1m390/390\u001b[0m \u001b[32m━━━━━━━━━━━━━━━━━━━━\u001b[0m\u001b[37m\u001b[0m \u001b[1m372s\u001b[0m 955ms/step - accuracy: 0.8959 - loss: 0.2516 - val_accuracy: 0.9688 - val_loss: 0.1694\n",
      "Epoch 5/5\n",
      "\u001b[1m390/390\u001b[0m \u001b[32m━━━━━━━━━━━━━━━━━━━━\u001b[0m\u001b[37m\u001b[0m \u001b[1m358s\u001b[0m 917ms/step - accuracy: 0.9171 - loss: 0.2070 - val_accuracy: 0.9688 - val_loss: 0.1673\n",
      "\n",
      "GRU model Score---> [0.2838974893093109, 0.8827199935913086]\n"
     ]
    }
   ],
   "source": [
    "#Aynı işlem GRU ile tanımlandı\n",
    "#GRU = tekrarlayan kapı kazancı\n",
    "gru_model=Sequential(name=\"GRU_Model\")\n",
    "gru_model.add(Embedding(vocab_size, embd_len, input_length=max_words))\n",
    "gru_model.add(GRU(128,activation=\"tanh\",return_sequences=False))\n",
    "gru_model.add(Dense(1,activation=\"sigmoid\"))\n",
    "gru_model.build(input_shape=(None, max_words))\n",
    "\n",
    "#Model özetinin yazdırılması\n",
    "print(gru_model.summary())\n",
    "#Modelin derlenmesi\n",
    "gru_model.compile(loss=\"binary_crossentropy\",optimizer=\"adam\",metrics=[\"accuracy\"])\n",
    "#Modelin eğitimi\n",
    "history2=gru_model.fit(x_train_,y_train_,batch_size=64,epochs=5,verbose=1,validation_data=(x_valid,y_valid))\n",
    "#Test sonuçlarının yazdırılması\n",
    "print()\n",
    "print(\"GRU model Score--->\",gru_model.evaluate(x_test,y_test,verbose=0))"
   ]
  },
  {
   "cell_type": "markdown",
   "id": "80fde06f-3890-4952-be06-adb4245eaa5c",
   "metadata": {},
   "source": [
    "Bu kod bloğu ile oluşturulan model özetinde, kullanılan katmanların türü, çıkış boyutları ve parametre sayıları görülmektedir. İlk katman olan Embedding, her kelimeyi 32 boyutlu bir vektörle temsil ederek sözcüklerin anlamını daha iyi yansıtacak bir uzaya dönüştürür. Ardından gelen GRU katmanı, 128 nöronla kelime sırasındaki bağımlılıkları işler ve uzun vadeli bağlamı korumada klasik RNN’e göre daha etkili olur. Son olarak Dense katmanı, sigmoid aktivasyonu sayesinde ikili sınıflandırma yapar ve yorumların pozitif ya da negatif olarak etiketlenmesini sağlar. Toplam 222,337 parametrenin tamamı eğitilebilir durumdadır. Bu yapı, hem kelimeler arasındaki bağlamı hem de uzun dizilerdeki bağımlılıkları yakalayarak duygu analizi yapabilecek şekilde tasarlanmıştır.\n",
    "\n",
    "Eğitim sürecinde modelin performansı giderek artmıştır. İlk epoch’ta doğruluk %71,9 seviyesinde başlamış, beşinci epoch sonunda doğruluk %91,7’ye yükselmiştir. Doğrulama doğruluğu ise %96,8 gibi oldukça yüksek bir seviyeye ulaşmıştır. Kayıp değerleri de her adımda azalmış, bu da modelin veriyi iyi öğrendiğini göstermiştir. Test seti sonuçlarına göre doğruluk %88,2, kayıp ise 0,28 olarak elde edilmiştir. Bu, modelin yeni veriler üzerinde de güçlü bir şekilde genelleme yapabildiğini ortaya koymaktadır."
   ]
  },
  {
   "cell_type": "markdown",
   "id": "08777398-7614-4499-bc09-8634f0dae7f4",
   "metadata": {},
   "source": [
    "Sonuçlar, GRU modelinin klasik RNN’e kıyasla daha yüksek bir başarı sağladığını göstermektedir. RNN modeli test doğruluğunda %81,9 seviyesinde kalırken, GRU modeli %88,2 doğruluğa ulaşmıştır. Bunun temel nedeni GRU’nun kapı mekanizmaları sayesinde daha uzun bağımlılıkları öğrenebilmesi ve unutma/hatırlama dengesini daha iyi kurabilmesidir. Dolayısıyla GRU, duygu analizi gibi bağlamın önemli olduğu metin sınıflandırma görevlerinde RNN’e göre daha avantajlı bir yapı sunmaktadır."
   ]
  }
 ],
 "metadata": {
  "kernelspec": {
   "display_name": "Python [conda env:base] *",
   "language": "python",
   "name": "conda-base-py"
  },
  "language_info": {
   "codemirror_mode": {
    "name": "ipython",
    "version": 3
   },
   "file_extension": ".py",
   "mimetype": "text/x-python",
   "name": "python",
   "nbconvert_exporter": "python",
   "pygments_lexer": "ipython3",
   "version": "3.11.7"
  }
 },
 "nbformat": 4,
 "nbformat_minor": 5
}
